{
 "cells": [
  {
   "cell_type": "code",
   "execution_count": 2,
   "metadata": {},
   "outputs": [
    {
     "data": {
      "text/html": [
       "<script>requirejs.config({paths: { 'plotly': ['https://cdn.plot.ly/plotly-latest.min']},});if(!window.Plotly) {{require(['plotly'],function(plotly) {window.Plotly=plotly;});}}</script>"
      ],
      "text/vnd.plotly.v1+html": [
       "<script>requirejs.config({paths: { 'plotly': ['https://cdn.plot.ly/plotly-latest.min']},});if(!window.Plotly) {{require(['plotly'],function(plotly) {window.Plotly=plotly;});}}</script>"
      ]
     },
     "metadata": {},
     "output_type": "display_data"
    },
    {
     "name": "stderr",
     "output_type": "stream",
     "text": [
      "Using TensorFlow backend.\n"
     ]
    }
   ],
   "source": [
    "import numpy as np # linear algebra\n",
    "import pandas as pd # data processing, CSV file I/O (e.g. pd.read_csv)\n",
    "import plotly.graph_objs as go\n",
    "from plotly.offline import init_notebook_mode, iplot\n",
    "init_notebook_mode(connected=True)\n",
    "from collections import Counter\n",
    "import matplotlib.pyplot as plt\n",
    "#import seaborn as sns\n",
    "%matplotlib inline\n",
    "import seaborn as sns # for making plots with seaborn\n",
    "color = sns.color_palette()\n",
    "from sklearn.svm import LinearSVC\n",
    "from sklearn.feature_extraction.text import TfidfVectorizer, HashingVectorizer\n",
    "from sklearn.pipeline import FeatureUnion\n",
    "\n",
    "from keras.preprocessing.text import Tokenizer\n",
    "from keras.preprocessing.sequence import pad_sequences\n",
    "from keras.models import Sequential\n",
    "from keras.layers import Dense, Flatten, LSTM, Conv1D, MaxPooling1D, Dropout, Activation\n",
    "from keras.layers.embeddings import Embedding\n",
    "from sklearn.manifold import TSNE\n",
    "from keras.optimizers import adam,nadam"
   ]
  },
  {
   "cell_type": "code",
   "execution_count": 3,
   "metadata": {},
   "outputs": [],
   "source": [
    "train = pd.read_json('train.json')\n",
    "test = pd.read_json('test.json')\n",
    "sub = pd.read_csv('sample_submission.csv')"
   ]
  },
  {
   "cell_type": "code",
   "execution_count": 5,
   "metadata": {},
   "outputs": [],
   "source": [
    "train['seperated_ingredients'] = train['ingredients'].apply(','.join)\n",
    "test['seperated_ingredients'] = test['ingredients'].apply(','.join)"
   ]
  },
  {
   "cell_type": "code",
   "execution_count": 7,
   "metadata": {},
   "outputs": [
    {
     "data": {
      "application/vnd.plotly.v1+json": {
       "data": [
        {
         "marker": {
          "color": [
           "rgba(221,160,221,1)",
           "rgba(169,169,169,1)",
           "rgba(255,160,122,1)",
           "rgba(176,224,230,1)",
           "rgba(169,169,169,1)",
           "rgba(255,160,122,1)",
           "rgba(176,224,230,1)",
           "rgba(188,143,143,1)",
           "rgba(221,160,221,1)",
           "rgba(169,169,169,1)",
           "rgba(255,160,122,1)",
           "rgba(176,224,230,1)",
           "rgba(189,183,107,1)",
           "rgba(188,143,143,1)",
           "rgba(221,160,221,1)",
           "rgba(169,169,169,1)",
           "rgba(255,160,122,1)",
           "rgba(176,224,230,1)",
           "rgba(169,169,169,1)",
           "rgba(255,160,122,1)"
          ]
         },
         "orientation": "h",
         "type": "bar",
         "x": [
          1.1741338562880275,
          1.2294463720018103,
          1.3224719666113542,
          1.676974908231508,
          1.8982249710866397,
          2.0214210288127923,
          2.064162518227988,
          2.0742193392668575,
          2.0867903655654447,
          2.486549001860512,
          2.9541911801679492,
          3.5777140845778646,
          3.869361894705084,
          3.8869613315231053,
          6.652587117212249,
          6.720470659224619,
          7.550158394931363,
          10.861366721979183,
          16.186453462060644,
          19.70634082566501
         ],
         "y": [
          "brazilian",
          "russian",
          "jamaican",
          "irish",
          "filipino",
          "british",
          "moroccan",
          "vietnamese",
          "korean",
          "spanish",
          "greek",
          "japanese",
          "thai",
          "cajun_creole",
          "french",
          "chinese",
          "indian",
          "southern_us",
          "mexican",
          "italian"
         ]
        }
       ],
       "layout": {
        "margin": {
         "l": 200
        },
        "title": "Top cuisine with recipe count (%)",
        "xaxis": {
         "tickfont": {
          "size": 14
         },
         "title": "Recipe count"
        },
        "yaxis": {
         "tickfont": {
          "size": 14
         },
         "title": "Cuisine",
         "titlefont": {
          "size": 16
         }
        }
       }
      },
      "text/html": [
       "<div id=\"945f616b-f3ed-4a06-ac31-43dc0dfd8096\" style=\"height: 525px; width: 100%;\" class=\"plotly-graph-div\"></div><script type=\"text/javascript\">require([\"plotly\"], function(Plotly) { window.PLOTLYENV=window.PLOTLYENV || {};window.PLOTLYENV.BASE_URL=\"https://plot.ly\";Plotly.newPlot(\"945f616b-f3ed-4a06-ac31-43dc0dfd8096\", [{\"type\": \"bar\", \"y\": [\"brazilian\", \"russian\", \"jamaican\", \"irish\", \"filipino\", \"british\", \"moroccan\", \"vietnamese\", \"korean\", \"spanish\", \"greek\", \"japanese\", \"thai\", \"cajun_creole\", \"french\", \"chinese\", \"indian\", \"southern_us\", \"mexican\", \"italian\"], \"x\": [1.1741338562880275, 1.2294463720018103, 1.3224719666113542, 1.676974908231508, 1.8982249710866397, 2.0214210288127923, 2.064162518227988, 2.0742193392668575, 2.0867903655654447, 2.486549001860512, 2.9541911801679492, 3.5777140845778646, 3.869361894705084, 3.8869613315231053, 6.652587117212249, 6.720470659224619, 7.550158394931363, 10.861366721979183, 16.186453462060644, 19.70634082566501], \"orientation\": \"h\", \"marker\": {\"color\": [\"rgba(221,160,221,1)\", \"rgba(169,169,169,1)\", \"rgba(255,160,122,1)\", \"rgba(176,224,230,1)\", \"rgba(169,169,169,1)\", \"rgba(255,160,122,1)\", \"rgba(176,224,230,1)\", \"rgba(188,143,143,1)\", \"rgba(221,160,221,1)\", \"rgba(169,169,169,1)\", \"rgba(255,160,122,1)\", \"rgba(176,224,230,1)\", \"rgba(189,183,107,1)\", \"rgba(188,143,143,1)\", \"rgba(221,160,221,1)\", \"rgba(169,169,169,1)\", \"rgba(255,160,122,1)\", \"rgba(176,224,230,1)\", \"rgba(169,169,169,1)\", \"rgba(255,160,122,1)\"]}}], {\"title\": \"Top cuisine with recipe count (%)\", \"xaxis\": {\"title\": \"Recipe count\", \"tickfont\": {\"size\": 14}}, \"yaxis\": {\"title\": \"Cuisine\", \"titlefont\": {\"size\": 16}, \"tickfont\": {\"size\": 14}}, \"margin\": {\"l\": 200}}, {\"showLink\": true, \"linkText\": \"Export to plot.ly\"})});</script>"
      ],
      "text/vnd.plotly.v1+html": [
       "<div id=\"945f616b-f3ed-4a06-ac31-43dc0dfd8096\" style=\"height: 525px; width: 100%;\" class=\"plotly-graph-div\"></div><script type=\"text/javascript\">require([\"plotly\"], function(Plotly) { window.PLOTLYENV=window.PLOTLYENV || {};window.PLOTLYENV.BASE_URL=\"https://plot.ly\";Plotly.newPlot(\"945f616b-f3ed-4a06-ac31-43dc0dfd8096\", [{\"type\": \"bar\", \"y\": [\"brazilian\", \"russian\", \"jamaican\", \"irish\", \"filipino\", \"british\", \"moroccan\", \"vietnamese\", \"korean\", \"spanish\", \"greek\", \"japanese\", \"thai\", \"cajun_creole\", \"french\", \"chinese\", \"indian\", \"southern_us\", \"mexican\", \"italian\"], \"x\": [1.1741338562880275, 1.2294463720018103, 1.3224719666113542, 1.676974908231508, 1.8982249710866397, 2.0214210288127923, 2.064162518227988, 2.0742193392668575, 2.0867903655654447, 2.486549001860512, 2.9541911801679492, 3.5777140845778646, 3.869361894705084, 3.8869613315231053, 6.652587117212249, 6.720470659224619, 7.550158394931363, 10.861366721979183, 16.186453462060644, 19.70634082566501], \"orientation\": \"h\", \"marker\": {\"color\": [\"rgba(221,160,221,1)\", \"rgba(169,169,169,1)\", \"rgba(255,160,122,1)\", \"rgba(176,224,230,1)\", \"rgba(169,169,169,1)\", \"rgba(255,160,122,1)\", \"rgba(176,224,230,1)\", \"rgba(188,143,143,1)\", \"rgba(221,160,221,1)\", \"rgba(169,169,169,1)\", \"rgba(255,160,122,1)\", \"rgba(176,224,230,1)\", \"rgba(189,183,107,1)\", \"rgba(188,143,143,1)\", \"rgba(221,160,221,1)\", \"rgba(169,169,169,1)\", \"rgba(255,160,122,1)\", \"rgba(176,224,230,1)\", \"rgba(169,169,169,1)\", \"rgba(255,160,122,1)\"]}}], {\"title\": \"Top cuisine with recipe count (%)\", \"xaxis\": {\"title\": \"Recipe count\", \"tickfont\": {\"size\": 14}}, \"yaxis\": {\"title\": \"Cuisine\", \"titlefont\": {\"size\": 16}, \"tickfont\": {\"size\": 14}}, \"margin\": {\"l\": 200}}, {\"showLink\": true, \"linkText\": \"Export to plot.ly\"})});</script>"
      ]
     },
     "metadata": {},
     "output_type": "display_data"
    },
    {
     "data": {
      "text/html": [
       "<div>\n",
       "<style scoped>\n",
       "    .dataframe tbody tr th:only-of-type {\n",
       "        vertical-align: middle;\n",
       "    }\n",
       "\n",
       "    .dataframe tbody tr th {\n",
       "        vertical-align: top;\n",
       "    }\n",
       "\n",
       "    .dataframe thead th {\n",
       "        text-align: right;\n",
       "    }\n",
       "</style>\n",
       "<table border=\"1\" class=\"dataframe\">\n",
       "  <thead>\n",
       "    <tr style=\"text-align: right;\">\n",
       "      <th></th>\n",
       "      <th>cuisine</th>\n",
       "    </tr>\n",
       "  </thead>\n",
       "  <tbody>\n",
       "    <tr>\n",
       "      <th>italian</th>\n",
       "      <td>7838</td>\n",
       "    </tr>\n",
       "    <tr>\n",
       "      <th>mexican</th>\n",
       "      <td>6438</td>\n",
       "    </tr>\n",
       "    <tr>\n",
       "      <th>southern_us</th>\n",
       "      <td>4320</td>\n",
       "    </tr>\n",
       "    <tr>\n",
       "      <th>indian</th>\n",
       "      <td>3003</td>\n",
       "    </tr>\n",
       "    <tr>\n",
       "      <th>chinese</th>\n",
       "      <td>2673</td>\n",
       "    </tr>\n",
       "  </tbody>\n",
       "</table>\n",
       "</div>"
      ],
      "text/plain": [
       "             cuisine\n",
       "italian         7838\n",
       "mexican         6438\n",
       "southern_us     4320\n",
       "indian          3003\n",
       "chinese         2673"
      ]
     },
     "execution_count": 7,
     "metadata": {},
     "output_type": "execute_result"
    }
   ],
   "source": [
    "color_theme = dict(color = ['rgba(221,160,221,1)','rgba(169,169,169,1)','rgba(255,160,122,1)','rgba(176,224,230,1)','rgba(169,169,169,1)','rgba(255,160,122,1)','rgba(176,224,230,1)',\n",
    "                   'rgba(188,143,143,1)','rgba(221,160,221,1)','rgba(169,169,169,1)','rgba(255,160,122,1)','rgba(176,224,230,1)','rgba(189,183,107,1)','rgba(188,143,143,1)','rgba(221,160,221,1)','rgba(169,169,169,1)','rgba(255,160,122,1)','rgba(176,224,230,1)','rgba(169,169,169,1)','rgba(255,160,122,1)'])\n",
    "temp = train['cuisine'].value_counts()\n",
    "trace = go.Bar(y=temp.index[::-1],x=(temp / temp.sum() * 100)[::-1],orientation = 'h',marker=color_theme)\n",
    "layout = go.Layout(title = \"Top cuisine with recipe count (%)\",xaxis=dict(title='Recipe count',tickfont=dict(size=14,)),\n",
    "                   yaxis=dict(title='Cuisine',titlefont=dict(size=16),tickfont=dict(size=14)),margin=dict(l=200,))\n",
    "data = [trace]\n",
    "fig = go.Figure(data=data, layout=layout)\n",
    "iplot(fig,filename='basic-bar')\n",
    "temp = pd.DataFrame(temp)\n",
    "temp.head()"
   ]
  },
  {
   "cell_type": "code",
   "execution_count": 9,
   "metadata": {},
   "outputs": [],
   "source": [
    "def cuisine_dish(train, cuisine):\n",
    "    temp1 = train[train['cuisine'] == cuisine]\n",
    "    n=6714 # total ingredients in train data\n",
    "    top = Counter([item for sublist in temp1.ingredients for item in sublist]).most_common(n)\n",
    "    temp= pd.DataFrame(top)\n",
    "    temp.columns = ['ingredient','total_count']\n",
    "    temp = temp.head(20)\n",
    "    trace0 = go.Pie(labels=temp.ingredient[::-1], values=temp.total_count[::-1],hole = 0.4)\n",
    "    data = [trace0]\n",
    "    fig = go.Figure(data = data, layout= dict(title = \"Famous Cuisine of '\"+cuisine+\"'\"))\n",
    "    iplot(fig,filename='basic_pie_chart')"
   ]
  },
  {
   "cell_type": "code",
   "execution_count": 11,
   "metadata": {},
   "outputs": [],
   "source": [
    "from sklearn.feature_extraction.text import TfidfVectorizer\n",
    "\n",
    "tfidf = TfidfVectorizer(binary=True).fit(train['seperated_ingredients'].values)\n",
    "\n",
    "X_train_vectorized = tfidf.transform(train['seperated_ingredients'].values)\n",
    "X_train_vectorized = X_train_vectorized.astype('float')\n",
    "Result_transformed = tfidf.transform(test['seperated_ingredients'].values)\n",
    "Result_transformed = Result_transformed.astype('float')"
   ]
  },
  {
   "cell_type": "code",
   "execution_count": 12,
   "metadata": {},
   "outputs": [],
   "source": [
    "from sklearn.preprocessing import LabelEncoder\n",
    "\n",
    "encoder = LabelEncoder()\n",
    "y_transformed = encoder.fit_transform(train.cuisine)"
   ]
  },
  {
   "cell_type": "code",
   "execution_count": 13,
   "metadata": {},
   "outputs": [
    {
     "name": "stderr",
     "output_type": "stream",
     "text": [
      "c:\\users\\user\\appdata\\local\\programs\\python\\python36\\lib\\site-packages\\sklearn\\cross_validation.py:41: DeprecationWarning:\n",
      "\n",
      "This module was deprecated in version 0.18 in favor of the model_selection module into which all the refactored classes and functions are moved. Also note that the interface of the new CV iterators are different from that of this module. This module will be removed in 0.20.\n",
      "\n"
     ]
    }
   ],
   "source": [
    "from sklearn.cross_validation import train_test_split\n",
    "X_train, X_test, y_train, y_test = train_test_split(X_train_vectorized, y_transformed ,test_size=0.10  ,random_state = 0)"
   ]
  },
  {
   "cell_type": "code",
   "execution_count": 14,
   "metadata": {},
   "outputs": [
    {
     "data": {
      "text/plain": [
       "0.9996088948485864"
      ]
     },
     "execution_count": 14,
     "metadata": {},
     "output_type": "execute_result"
    }
   ],
   "source": [
    "%%time\n",
    "from sklearn.svm import SVC\n",
    "from sklearn.multiclass import OneVsRestClassifier\n",
    "\n",
    "classifier = SVC(C=100, # penalty parameter, setting it to a larger value \n",
    "                 kernel='rbf', # kernel type, rbf working fine here\n",
    "                 degree=3, # default value, not tuned yet\n",
    "                 gamma=1, # kernel coefficient, not tuned yet\n",
    "                 coef0=1, # change to 1 from default value of 0.0\n",
    "                 shrinking=True, # using shrinking heuristics\n",
    "                 tol=0.001, # stopping criterion tolerance \n",
    "                 probability=False, # no need to enable probability estimates\n",
    "                 cache_size=200, # 200 MB cache size\n",
    "                 class_weight=None, # all classes are treated equally \n",
    "                 verbose=True, # print the logs \n",
    "                 max_iter=-1, # no limit, let it run\n",
    "                 decision_function_shape=None, # will use one vs rest explicitly \n",
    "                 random_state=None)\n",
    "model = OneVsRestClassifier(classifier, n_jobs=4)\n",
    "model.fit(X_train , y_train)\n",
    "model.score(X_train , y_train)"
   ]
  },
  {
   "cell_type": "code",
   "execution_count": 15,
   "metadata": {},
   "outputs": [
    {
     "name": "stderr",
     "output_type": "stream",
     "text": [
      "c:\\users\\user\\appdata\\local\\programs\\python\\python36\\lib\\site-packages\\sklearn\\preprocessing\\label.py:151: DeprecationWarning:\n",
      "\n",
      "The truth value of an empty array is ambiguous. Returning False, but in future this will result in an error. Use `array.size > 0` to check that an array is not empty.\n",
      "\n"
     ]
    },
    {
     "data": {
      "text/html": [
       "<div>\n",
       "<style scoped>\n",
       "    .dataframe tbody tr th:only-of-type {\n",
       "        vertical-align: middle;\n",
       "    }\n",
       "\n",
       "    .dataframe tbody tr th {\n",
       "        vertical-align: top;\n",
       "    }\n",
       "\n",
       "    .dataframe thead th {\n",
       "        text-align: right;\n",
       "    }\n",
       "</style>\n",
       "<table border=\"1\" class=\"dataframe\">\n",
       "  <thead>\n",
       "    <tr style=\"text-align: right;\">\n",
       "      <th></th>\n",
       "      <th>id</th>\n",
       "      <th>cuisine</th>\n",
       "    </tr>\n",
       "  </thead>\n",
       "  <tbody>\n",
       "    <tr>\n",
       "      <th>0</th>\n",
       "      <td>35203</td>\n",
       "      <td>irish</td>\n",
       "    </tr>\n",
       "    <tr>\n",
       "      <th>1</th>\n",
       "      <td>17600</td>\n",
       "      <td>southern_us</td>\n",
       "    </tr>\n",
       "    <tr>\n",
       "      <th>2</th>\n",
       "      <td>35200</td>\n",
       "      <td>italian</td>\n",
       "    </tr>\n",
       "    <tr>\n",
       "      <th>3</th>\n",
       "      <td>17602</td>\n",
       "      <td>cajun_creole</td>\n",
       "    </tr>\n",
       "    <tr>\n",
       "      <th>4</th>\n",
       "      <td>17605</td>\n",
       "      <td>italian</td>\n",
       "    </tr>\n",
       "  </tbody>\n",
       "</table>\n",
       "</div>"
      ],
      "text/plain": [
       "      id       cuisine\n",
       "0  35203         irish\n",
       "1  17600   southern_us\n",
       "2  35200       italian\n",
       "3  17602  cajun_creole\n",
       "4  17605       italian"
      ]
     },
     "execution_count": 15,
     "metadata": {},
     "output_type": "execute_result"
    }
   ],
   "source": [
    "predict = model.predict(Result_transformed)\n",
    "final=encoder.inverse_transform(predict)\n",
    "sub[\"cuisine\"] = final\n",
    "sub.to_csv(\"Submission.csv\", index=False)\n",
    "sub.head()"
   ]
  },
  {
   "cell_type": "code",
   "execution_count": null,
   "metadata": {},
   "outputs": [],
   "source": []
  }
 ],
 "metadata": {
  "kernelspec": {
   "display_name": "Python 3",
   "language": "python",
   "name": "python3"
  },
  "language_info": {
   "codemirror_mode": {
    "name": "ipython",
    "version": 3
   },
   "file_extension": ".py",
   "mimetype": "text/x-python",
   "name": "python",
   "nbconvert_exporter": "python",
   "pygments_lexer": "ipython3",
   "version": "3.6.4"
  }
 },
 "nbformat": 4,
 "nbformat_minor": 2
}
