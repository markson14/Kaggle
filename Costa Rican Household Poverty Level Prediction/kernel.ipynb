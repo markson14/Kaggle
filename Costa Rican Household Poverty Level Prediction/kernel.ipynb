{
  "cells": [
    {
      "metadata": {
        "trusted": false,
        "collapsed": true,
        "_uuid": "06ecde2d79aec6aca6c0731933250aa65c590a2b"
      },
      "cell_type": "code",
      "source": "import pandas as pd\nimport numpy as np\nfrom xgboost import XGBClassifier\nfrom sklearn import ensemble \nfrom lightgbm import LGBMClassifier\nfrom sklearn.linear_model import SGDClassifier",
      "execution_count": null,
      "outputs": []
    },
    {
      "metadata": {
        "trusted": false,
        "collapsed": true,
        "_uuid": "16cd42403bbb37d03e5375d03f24b45e55ae3af6"
      },
      "cell_type": "code",
      "source": "train_df = pd.read_csv('../input/train.csv')\ntest_df = pd.read_csv('../input/test.csv')",
      "execution_count": null,
      "outputs": []
    },
    {
      "metadata": {
        "trusted": false,
        "collapsed": true,
        "_uuid": "e2b11bd32a4384d4b889e264c35925f8c2e6edcf"
      },
      "cell_type": "code",
      "source": "## data cleaning\ndef data_cleaning(data):\n    data['dependency']=np.sqrt(data['SQBdependency'])\n    data['rez_esc']=data['rez_esc'].fillna(0)\n    data['v18q1']=data['v18q1'].fillna(0)\n    data['v2a1']=data['v2a1'].fillna(0)\n    \n    conditions = [\n    (data['edjefe']=='no') & (data['edjefa']=='no'), #both no\n    (data['edjefe']=='yes') & (data['edjefa']=='no'), # yes and no\n    (data['edjefe']=='no') & (data['edjefa']=='yes'), #no and yes \n    (data['edjefe']!='no') & (data['edjefe']!='yes') & (data['edjefa']=='no'), # number and no\n    (data['edjefe']=='no') & (data['edjefa']!='no') # no and number\n    ]\n    choices = [0, 1, 1, data['edjefe'], data['edjefa']]\n    data['edjefx']=np.select(conditions, choices)\n    data['edjefx']=data['edjefx'].astype(int)\n    data.drop(['edjefe', 'edjefa'], axis=1, inplace=True)\n    \n    meaneduc_nan=data[data['meaneduc'].isnull()][['Id','idhogar','escolari']]\n    me=meaneduc_nan.groupby('idhogar')['escolari'].mean().reset_index()\n    for row in meaneduc_nan.iterrows():\n        idx=row[0]\n        idhogar=row[1]['idhogar']\n        m=me[me['idhogar']==idhogar]['escolari'].tolist()[0]\n        data.at[idx, 'meaneduc']=m\n        data.at[idx, 'SQBmeaned']=m*m\n    data=data.drop('idhogar',axis=1)\n    return data",
      "execution_count": null,
      "outputs": []
    },
    {
      "metadata": {
        "trusted": false,
        "collapsed": true,
        "_uuid": "1555bc296c12cf01350ee5f56ef8fb8acf5616aa"
      },
      "cell_type": "code",
      "source": "x_train = data_cleaning(train_df)\nx_train = x_train.drop('Id',axis=1)",
      "execution_count": null,
      "outputs": []
    },
    {
      "metadata": {
        "trusted": false,
        "collapsed": true,
        "_uuid": "113b0ba9d4282b2e13e05fae3b22f1f4f946a48e"
      },
      "cell_type": "code",
      "source": "y_train = x_train.Target\nx_train = x_train.drop('Target',axis=1)",
      "execution_count": null,
      "outputs": []
    },
    {
      "metadata": {
        "trusted": true,
        "collapsed": true,
        "_uuid": "ce251a2ac8550d12742dc320cdfd0b2c9dda992b"
      },
      "cell_type": "code",
      "source": "preds = pd.DataFrame()\ntest = data_cleaning(test_df)\nids=test['Id']\ntest.drop(['Id'], axis=1, inplace=True)",
      "execution_count": null,
      "outputs": []
    },
    {
      "metadata": {
        "trusted": false,
        "collapsed": true,
        "_uuid": "aded4438c2c85d56474b5052dd9318bc287691ad"
      },
      "cell_type": "code",
      "source": "%%time\nfrom lightgbm import LGBMClassifier\n\nm1 = ensemble.AdaBoostClassifier(ensemble.ExtraTreesClassifier(n_estimators=500), n_estimators=250, learning_rate=0.01, algorithm='SAMME')  \nm1.fit(x_train, y_train) \npreds[\"Model1\"] = m1.predict(test)\n\nm2 = ensemble.ExtraTreesClassifier(n_estimators=550)  \nm2.fit(x_train, y_train)\npreds[\"Model2\"] = m2.predict(test)\n\nm3 = XGBClassifier(max_depth=20, n_estimators=2000)  \nm3.fit(x_train, y_train)\npreds[\"Model3\"] = m3.predict(test)\n\nm5 = ensemble.AdaBoostClassifier(ensemble.GradientBoostingClassifier(n_estimators=1000, max_depth=10), n_estimators=1000, learning_rate=0.01, algorithm=\"SAMME\")\nm5.fit(x_train, y_train)\npreds[\"Model5\"] = m5.predict(test)\n\nm6 = LGBMClassifier(n_estimators=3000, max_depth=15)\nm6.fit(x_train, y_train)\npreds[\"Model6\"] = m6.predict(test)",
      "execution_count": null,
      "outputs": []
    },
    {
      "metadata": {
        "trusted": false,
        "collapsed": true,
        "_uuid": "70b7515791f68ce011f0b0609fa2f5da2a1cae5a"
      },
      "cell_type": "code",
      "source": "\npred = preds.mode(axis=1)\nsubmit=pd.DataFrame({'Id': ids, 'Target': pred[0].astype('int').values})\nsubmit.to_csv('Vsubmit.csv', index=False)",
      "execution_count": null,
      "outputs": []
    },
    {
      "metadata": {
        "trusted": false,
        "collapsed": true,
        "_uuid": "68bdab2b17897bc0a8af78ee0c3530dc50bde4dd"
      },
      "cell_type": "code",
      "source": "",
      "execution_count": null,
      "outputs": []
    },
    {
      "metadata": {
        "trusted": false,
        "collapsed": true,
        "_uuid": "bc3922a900eac5129dd2fb8fd7311b933a2d1a06"
      },
      "cell_type": "code",
      "source": "",
      "execution_count": null,
      "outputs": []
    },
    {
      "metadata": {
        "trusted": false,
        "collapsed": true,
        "_uuid": "35c8171285606121436ecde623f650e41860db94"
      },
      "cell_type": "code",
      "source": "",
      "execution_count": null,
      "outputs": []
    },
    {
      "metadata": {
        "trusted": false,
        "collapsed": true,
        "_uuid": "928cc171520c05082da3e80b7b7d69f42e39e762"
      },
      "cell_type": "code",
      "source": "",
      "execution_count": null,
      "outputs": []
    }
  ],
  "metadata": {
    "kernelspec": {
      "display_name": "Python 3",
      "language": "python",
      "name": "python3"
    },
    "language_info": {
      "name": "python",
      "version": "3.6.6",
      "mimetype": "text/x-python",
      "codemirror_mode": {
        "name": "ipython",
        "version": 3
      },
      "pygments_lexer": "ipython3",
      "nbconvert_exporter": "python",
      "file_extension": ".py"
    }
  },
  "nbformat": 4,
  "nbformat_minor": 1
}