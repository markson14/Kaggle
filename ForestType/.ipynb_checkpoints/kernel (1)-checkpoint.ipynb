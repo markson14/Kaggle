{
 "cells": [
  {
   "cell_type": "code",
   "execution_count": 2,
   "metadata": {
    "_cell_guid": "b1076dfc-b9ad-4769-8c92-a6c4dae69d19",
    "_uuid": "8f2839f25d086af736a60e9eeb907d3b93b6e0e5"
   },
   "outputs": [],
   "source": [
    "# This Python 3 environment comes with many helpful analytics libraries installed\n",
    "# It is defined by the kaggle/python docker image: https://github.com/kaggle/docker-python\n",
    "# For example, here's several helpful packages to load in \n",
    "\n",
    "import numpy as np # linear algebra\n",
    "import pandas as pd # data processing, CSV file I/O (e.g. pd.read_csv)\n",
    "\n",
    "# Any results you write to the current directory are saved as output."
   ]
  },
  {
   "cell_type": "code",
   "execution_count": 2,
   "metadata": {
    "_cell_guid": "79c7e3d0-c299-4dcb-8224-4455121ee9b0",
    "_uuid": "d629ff2d2480ee46fbb7e2d37f6b5fab8052498a",
    "collapsed": true
   },
   "outputs": [],
   "source": [
    "import numpy as np # linear algebra\n",
    "import pandas as pd # data processing, CSV file I/O (e.g. pd.read_csv)\n",
    "from sklearn import preprocessing\n",
    "# Input data files are available in the \"../input/\" directory.\n",
    "# For example, running this (by clicking run or pressing Shift+Enter) will list the files in the input directory\n",
    "from sklearn.svm import SVC\n",
    "from sklearn.multiclass import OneVsRestClassifier\n",
    "from sklearn.ensemble import RandomForestClassifier\n",
    "from sklearn.ensemble import VotingClassifier\n",
    "from sklearn.neural_network import MLPClassifier\n",
    "import os\n",
    "from sklearn import ensemble\n",
    "from sklearn.preprocessing import MinMaxScaler\n",
    "\n",
    "train_df=pd.read_csv(\"../input/train.csv\")\n",
    "test_df = pd.read_csv(\"../input/test.csv\")"
   ]
  },
  {
   "cell_type": "code",
   "execution_count": 3,
   "metadata": {
    "_uuid": "a244e921b34d095590d7a84e00d5ebe78e6adb98",
    "collapsed": true
   },
   "outputs": [],
   "source": [
    "test_id = [ ]\n",
    "for doc in test_df.Id:\n",
    "    test_id.append(doc)\n",
    "    \n",
    "y_train = train_df.Cover_Type\n",
    "x_train = train_df.drop('Cover_Type', axis=1)\n",
    "x_train = x_train.drop('Id',axis=1)\n",
    "test_df = test_df.drop('Id',axis=1)\n",
    "\n",
    "\n",
    "\n",
    "x_train = x_train.drop('Soil_Type7',axis=1)\n",
    "x_train = x_train.drop('Soil_Type8',axis=1)\n",
    "x_train = x_train.drop('Soil_Type15',axis=1)\n",
    "x_train = x_train.drop('Soil_Type25',axis=1)\n",
    "# x_train = x_train.drop('Hillshade_3pm',axis=1)\n",
    "# x_train = x_train.drop('Hillshade_Noon',axis=1)\n",
    "# x_train = x_train.drop('Hillshade_9am',axis=1)\n",
    "# x_train = x_train.drop('Slope',axis=1)\n",
    "# x_train = x_train.drop('Aspect',axis=1)\n",
    "\n",
    "test_df = test_df.drop('Soil_Type7',axis=1)\n",
    "test_df = test_df.drop('Soil_Type8',axis=1)\n",
    "test_df = test_df.drop('Soil_Type15',axis=1)\n",
    "test_df = test_df.drop('Soil_Type25',axis=1)\n",
    "# test_df = test_df.drop('Hillshade_9am',axis=1)\n",
    "# test_df = test_df.drop('Hillshade_Noon',axis=1)\n",
    "# test_df = test_df.drop('Hillshade_3pm',axis=1)\n",
    "# test_df = test_df.drop('Slope',axis=1)\n",
    "# test_df = test_df.drop('Aspect',axis=1)\n",
    "\n",
    "\n",
    "x_train['HF1'] = x_train['Horizontal_Distance_To_Hydrology']+x_train['Horizontal_Distance_To_Fire_Points']\n",
    "x_train['HF2'] = abs(x_train['Horizontal_Distance_To_Hydrology']-x_train['Horizontal_Distance_To_Fire_Points'])\n",
    "x_train['HR1'] = abs(x_train['Horizontal_Distance_To_Hydrology']+x_train['Horizontal_Distance_To_Roadways'])\n",
    "x_train['HR2'] = abs(x_train['Horizontal_Distance_To_Hydrology']-x_train['Horizontal_Distance_To_Roadways'])\n",
    "x_train['FR1'] = abs(x_train['Horizontal_Distance_To_Fire_Points']+x_train['Horizontal_Distance_To_Roadways'])\n",
    "x_train['FR2'] = abs(x_train['Horizontal_Distance_To_Fire_Points']-x_train['Horizontal_Distance_To_Roadways'])\n",
    "x_train['distance'] = np.sqrt(np.array(x_train['Horizontal_Distance_To_Hydrology']**2 + x_train[\"Vertical_Distance_To_Hydrology\"]**2))\n",
    "x_train['Mean_Amenities']=(x_train.Horizontal_Distance_To_Fire_Points + x_train.Horizontal_Distance_To_Hydrology + x_train.Horizontal_Distance_To_Roadways) / 3 \n",
    "#Mean Distance to Fire and Water \n",
    "x_train['Mean_Fire_Hyd']=(x_train.Horizontal_Distance_To_Fire_Points + x_train.Horizontal_Distance_To_Hydrology) / 2 \n",
    "# x_train['angle'] = x_train['Slope'] * x_train['Elevation']\n",
    "\n",
    "test_df['HF1'] = test_df['Horizontal_Distance_To_Hydrology']+test_df['Horizontal_Distance_To_Fire_Points']\n",
    "test_df['HF2'] = abs(test_df['Horizontal_Distance_To_Hydrology']-test_df['Horizontal_Distance_To_Fire_Points'])\n",
    "test_df['HR1'] = abs(test_df['Horizontal_Distance_To_Hydrology']+test_df['Horizontal_Distance_To_Roadways'])\n",
    "test_df['HR2'] = abs(test_df['Horizontal_Distance_To_Hydrology']-test_df['Horizontal_Distance_To_Roadways'])\n",
    "test_df['FR1'] = abs(test_df['Horizontal_Distance_To_Fire_Points']+test_df['Horizontal_Distance_To_Roadways'])\n",
    "test_df['FR2'] = abs(test_df['Horizontal_Distance_To_Fire_Points']-test_df['Horizontal_Distance_To_Roadways'])\n",
    "test_df['distance'] = np.sqrt(np.array(test_df['Horizontal_Distance_To_Hydrology']**2 + test_df[\"Vertical_Distance_To_Hydrology\"]**2))\n",
    "test_df['Mean_Amenities']=(test_df.Horizontal_Distance_To_Fire_Points + test_df.Horizontal_Distance_To_Hydrology + test_df.Horizontal_Distance_To_Roadways) / 3 \n",
    "#Mean Distance to Fire and Water \n",
    "test_df['Mean_Fire_Hyd']=(test_df.Horizontal_Distance_To_Fire_Points + test_df.Horizontal_Distance_To_Hydrology) / 2 \n",
    "# test_df['angle'] = test_df['Slope'] * test_df['Elevation']\n"
   ]
  },
  {
   "cell_type": "code",
   "execution_count": 4,
   "metadata": {
    "_uuid": "e37829eb89d6dd26f8406595c12916de0094e5fd",
    "collapsed": true
   },
   "outputs": [],
   "source": [
    "from sklearn.preprocessing import MinMaxScaler\n",
    "scaler = MinMaxScaler(feature_range=(-10,10))\n",
    "x_train = scaler.fit_transform(x_train)"
   ]
  },
  {
   "cell_type": "code",
   "execution_count": 5,
   "metadata": {
    "_uuid": "71205d253b47bdc8f288dfaef843766a5c14bc9a"
   },
   "outputs": [
    {
     "name": "stderr",
     "output_type": "stream",
     "text": [
      "/opt/conda/lib/python3.6/site-packages/sklearn/cross_validation.py:41: DeprecationWarning: This module was deprecated in version 0.18 in favor of the model_selection module into which all the refactored classes and functions are moved. Also note that the interface of the new CV iterators are different from that of this module. This module will be removed in 0.20.\n",
      "  \"This module will be removed in 0.20.\", DeprecationWarning)\n"
     ]
    }
   ],
   "source": [
    "from sklearn.cross_validation import train_test_split\n",
    "x_train, x_test, y_train, y_test = train_test_split(x_train, y_train , random_state = 0,test_size=0.2)"
   ]
  },
  {
   "cell_type": "code",
   "execution_count": null,
   "metadata": {
    "_uuid": "4abd2ea473b5abb3b623e5c05a21b55af6b9de75"
   },
   "outputs": [
    {
     "name": "stdout",
     "output_type": "stream",
     "text": [
      "training on data ... \n"
     ]
    }
   ],
   "source": [
    "%%time\n",
    "print (\"training on data ... \")\n",
    "from xgboost import XGBClassifier\n",
    "from sklearn.linear_model import LogisticRegression\n",
    "from sklearn.linear_model import SGDClassifier\n",
    "from sklearn.model_selection import GridSearchCV\n",
    "                 \n",
    "# clf = RandomForestClassifier(bootstrap=True, class_weight=None, criterion='gini',\n",
    "#             max_depth=None, max_features=0.7, max_leaf_nodes=None,\n",
    "#             min_impurity_decrease=0.0, min_impurity_split=None,\n",
    "#             min_samples_leaf=3, min_samples_split=2,\n",
    "#             min_weight_fraction_leaf=0.0, n_estimators=200, n_jobs=-1,\n",
    "#             oob_score=True, random_state=None, verbose=0, warm_start=False)\n",
    "\n",
    "\n",
    "# model = ensemble.ExtraTreesClassifier(n_estimators=350)\n",
    "\n",
    "clf = XGBClassifier( learning_rate =0.1,\n",
    "                         n_estimators=400,\n",
    "                         max_depth = 25,\n",
    "                         min_child_weight=1,\n",
    "                         \n",
    "                         subsample=0.8,\n",
    "                         colsample_bytree=0.8,\n",
    "                         objective= 'multi:softmax',\n",
    "                         nthread=4,\n",
    "                         scale_pos_weight=1,\n",
    "                         seed=27)\n",
    "# model = OneVsRestClassifier(clf, n_jobs=-1)\n",
    "\n",
    "# model=VotingClassifier(estimators=[('clf1', ensemble.ExtraTreesClassifier(n_estimators=350)),\n",
    "# #                                    ('clf2', LogisticRegression()),\n",
    "#                                   ('clf3',XGBClassifier( learning_rate =0.1,\n",
    "#                                              n_estimators=400,\n",
    "#                                              max_depth=25,\n",
    "#                                              min_child_weight=1,\n",
    "#                                              gamma=1,\n",
    "#                                              subsample=0.8,\n",
    "#                                              colsample_bytree=0.8,\n",
    "#                                              objective= 'multi:softmax',\n",
    "#                                              nthread=4,\n",
    "#                                              scale_pos_weight=1,\n",
    "#                                              seed=27))], voting='soft',weights=[3,1])\n",
    "\n",
    "parameters = {'gamma':[0,1,2,3]}\n",
    "\n",
    "model = GridSearchCV(clf, parameters)\n",
    "\n",
    "# model = LogisticRegression()\n",
    "# model = ensemble.ExtraTreesClassifier(n_estimators=350)  \n",
    "# model = OneVsRestClassifier(clf, n_jobs=-1)\n",
    "model.fit(x_train, y_train)\n",
    "\n",
    "print(\"Best parameters set found on development set:\")\n",
    "print()\n",
    "print(model.best_params_)\n",
    "print()\n",
    "print(\"Grid scores on development set:\")\n",
    "print()\n",
    "for params, mean_score, scores in model.grid_scores_:\n",
    "    print(\"%0.3f (+/-%0.03f) for %r\"\n",
    "          % (mean_score, scores.std() * 2, params))\n",
    "\n",
    "\n",
    "# print (model.score(x_test,y_test))"
   ]
  }
 ],
 "metadata": {
  "kernelspec": {
   "display_name": "Python 3",
   "language": "python",
   "name": "python3"
  },
  "language_info": {
   "codemirror_mode": {
    "name": "ipython",
    "version": 3
   },
   "file_extension": ".py",
   "mimetype": "text/x-python",
   "name": "python",
   "nbconvert_exporter": "python",
   "pygments_lexer": "ipython3",
   "version": "3.6.4"
  }
 },
 "nbformat": 4,
 "nbformat_minor": 1
}
