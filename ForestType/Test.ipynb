{
 "cells": [
  {
   "cell_type": "code",
   "execution_count": 1,
   "metadata": {
    "_cell_guid": "b1076dfc-b9ad-4769-8c92-a6c4dae69d19",
    "_uuid": "8f2839f25d086af736a60e9eeb907d3b93b6e0e5"
   },
   "outputs": [],
   "source": [
    "# This Python 3 environment comes with many helpful analytics libraries installed\n",
    "# It is defined by the kaggle/python docker image: https://github.com/kaggle/docker-python\n",
    "# For example, here's several helpful packages to load in \n",
    "\n",
    "import numpy as np # linear algebra\n",
    "import pandas as pd # data processing, CSV file I/O (e.g. pd.read_csv)\n",
    "\n",
    "# Any results you write to the current directory are saved as output."
   ]
  },
  {
   "cell_type": "code",
   "execution_count": 2,
   "metadata": {
    "_cell_guid": "79c7e3d0-c299-4dcb-8224-4455121ee9b0",
    "_uuid": "d629ff2d2480ee46fbb7e2d37f6b5fab8052498a"
   },
   "outputs": [],
   "source": [
    "import numpy as np # linear algebra\n",
    "import pandas as pd # data processing, CSV file I/O (e.g. pd.read_csv)\n",
    "from sklearn import preprocessing\n",
    "# Input data files are available in the \"../input/\" directory.\n",
    "# For example, running this (by clicking run or pressing Shift+Enter) will list the files in the input directory\n",
    "from sklearn.svm import SVC\n",
    "from sklearn.multiclass import OneVsRestClassifier\n",
    "from sklearn.ensemble import RandomForestClassifier\n",
    "from sklearn.ensemble import VotingClassifier\n",
    "from sklearn.neural_network import MLPClassifier\n",
    "import os\n",
    "from sklearn import ensemble\n",
    "import numpy as np\n",
    "import pandas as pd\n",
    "from sklearn import ensemble \n",
    "# from lightgbm import LGBMClassifier\n",
    "from xgboost import XGBClassifier\n",
    "from sklearn.linear_model import SGDClassifier\n",
    "from sklearn.preprocessing import MinMaxScaler\n",
    "\n",
    "train_df=pd.read_csv(\"train.csv\")\n",
    "test_df = pd.read_csv(\"test.csv\")"
   ]
  },
  {
   "cell_type": "code",
   "execution_count": 3,
   "metadata": {
    "_uuid": "a244e921b34d095590d7a84e00d5ebe78e6adb98"
   },
   "outputs": [],
   "source": [
    "test_id = [ ]\n",
    "for doc in test_df.Id:\n",
    "    test_id.append(doc)\n",
    "    \n",
    "y_train = train_df.Cover_Type\n",
    "x_train = train_df.drop('Cover_Type', axis=1)\n",
    "x_train = x_train.drop('Id',axis=1)\n",
    "test_df = test_df.drop('Id',axis=1)\n",
    "\n",
    "x_train = x_train.drop('Soil_Type8',axis=1)\n",
    "x_train = x_train.drop('Soil_Type7',axis=1)\n",
    "x_train = x_train.drop('Soil_Type15',axis=1)\n",
    "x_train = x_train.drop('Soil_Type25',axis=1)\n",
    "\n",
    "# x_train = x_train.drop('Hillshade_3pm',axis=1)\n",
    "# x_train = x_train.drop('Hillshade_Noon',axis=1)\n",
    "# x_train = x_train.drop('Hillshade_9am',axis=1)\n",
    "# x_train = x_train.drop('Slope',axis=1)\n",
    "# x_train = x_train.drop('Aspect',axis=1)\n",
    "\n",
    "test_df = test_df.drop('Soil_Type7',axis=1)\n",
    "test_df = test_df.drop('Soil_Type15',axis=1)\n",
    "test_df = test_df.drop('Soil_Type25',axis=1)\n",
    "test_df = test_df.drop('Soil_Type8',axis=1)\n",
    "\n",
    "# test_df = test_df.drop('Hillshade_9am',axis=1)\n",
    "# test_df = test_df.drop('Hillshade_Noon',axis=1)\n",
    "# test_df = test_df.drop('Hillshade_3pm',axis=1)\n",
    "# test_df = test_df.drop('Slope',axis=1)\n",
    "# test_df = test_df.drop('Aspect',axis=1)\n",
    "\n",
    "\n",
    "x_train['HF1'] = x_train['Horizontal_Distance_To_Hydrology']+x_train['Horizontal_Distance_To_Fire_Points']\n",
    "x_train['HF2'] = x_train['Horizontal_Distance_To_Hydrology']-x_train['Horizontal_Distance_To_Fire_Points']\n",
    "x_train['HR1'] = x_train['Horizontal_Distance_To_Hydrology']+x_train['Horizontal_Distance_To_Roadways']\n",
    "x_train['HR2'] = x_train['Horizontal_Distance_To_Hydrology']-x_train['Horizontal_Distance_To_Roadways']\n",
    "x_train['FR1'] = x_train['Horizontal_Distance_To_Fire_Points']+x_train['Horizontal_Distance_To_Roadways']\n",
    "x_train['FR2'] = x_train['Horizontal_Distance_To_Fire_Points']-x_train['Horizontal_Distance_To_Roadways']\n",
    "\n",
    "x_train['Neg_Elevation_Vertical'] = x_train['Elevation']-x_train['Vertical_Distance_To_Hydrology']\n",
    "x_train['Elevation_Vertical'] = x_train['Elevation'] + x_train['Vertical_Distance_To_Hydrology']\n",
    "\n",
    "x_train['distance'] = np.sqrt(np.array(x_train['Horizontal_Distance_To_Hydrology']**2 + x_train[\"Vertical_Distance_To_Hydrology\"]**2))\n",
    "x_train['Mean_Amenities']=(x_train['Horizontal_Distance_To_Fire_Points'] + x_train['Horizontal_Distance_To_Hydrology'] + x_train['Horizontal_Distance_To_Roadways']) / 3 \n",
    "#Mean Distance to Fire and Water \n",
    "x_train['mean_hillshade'] = (x_train['Hillshade_9am']  + x_train['Hillshade_Noon']  + x_train['Hillshade_3pm'] ) / 3\n",
    "x_train[\"Vertical_Distance_To_Hydrology\"] = abs(x_train['Vertical_Distance_To_Hydrology'])\n",
    "\n",
    "x_train['Mean_HorizontalHydrology_HorizontalFire'] = (x_train['Horizontal_Distance_To_Hydrology']+x_train['Horizontal_Distance_To_Fire_Points'])/2\n",
    "x_train['Mean_HorizontalHydrology_HorizontalRoadways'] = (x_train['Horizontal_Distance_To_Hydrology']+x_train['Horizontal_Distance_To_Roadways'])/2\n",
    "x_train['Mean_HorizontalFire_Points_HorizontalRoadways'] = (x_train['Horizontal_Distance_To_Fire_Points']+x_train['Horizontal_Distance_To_Roadways'])/2\n",
    "\n",
    "x_train['MeanNeg_Mean_HorizontalHydrology_HorizontalFire'] = (x_train['Horizontal_Distance_To_Hydrology']-x_train['Horizontal_Distance_To_Fire_Points'])/2\n",
    "x_train['MeanNeg_HorizontalHydrology_HorizontalRoadways'] = (x_train['Horizontal_Distance_To_Hydrology']-x_train['Horizontal_Distance_To_Roadways'])/2\n",
    "x_train['MeanNeg_HorizontalFire_Points_HorizontalRoadways'] = (x_train['Horizontal_Distance_To_Fire_Points']-x_train['Horizontal_Distance_To_Roadways'])/2\n",
    "\n",
    "\n",
    "# x_train['angle'] = x_train['Slope'] * x_train['Elevation']\n",
    "\n",
    "test_df['Elevation1'] = test_df['Elevation']\n",
    "test_df['HF1'] = test_df['Horizontal_Distance_To_Hydrology']+test_df['Horizontal_Distance_To_Fire_Points']\n",
    "test_df['HF2'] = test_df['Horizontal_Distance_To_Hydrology']-test_df['Horizontal_Distance_To_Fire_Points']\n",
    "test_df['HR1'] = test_df['Horizontal_Distance_To_Hydrology']+test_df['Horizontal_Distance_To_Roadways']\n",
    "test_df['HR2'] = test_df['Horizontal_Distance_To_Hydrology']-test_df['Horizontal_Distance_To_Roadways']\n",
    "test_df['FR1'] = test_df['Horizontal_Distance_To_Fire_Points']+test_df['Horizontal_Distance_To_Roadways']\n",
    "test_df['FR2'] = test_df['Horizontal_Distance_To_Fire_Points']-test_df['Horizontal_Distance_To_Roadways']\n",
    "test_df['Neg_Elevation_Vertical'] = test_df['Elevation']-test_df['Vertical_Distance_To_Hydrology']\n",
    "test_df['Elevation_Vertical'] = test_df['Elevation'] + test_df['Vertical_Distance_To_Hydrology']\n",
    "\n",
    "test_df['distance'] = np.sqrt(np.array(test_df['Horizontal_Distance_To_Hydrology']**2 + test_df[\"Vertical_Distance_To_Hydrology\"]**2))\n",
    "test_df['Mean_Amenities']=(test_df['Horizontal_Distance_To_Fire_Points'] + test_df['Horizontal_Distance_To_Hydrology'] + test_df['Horizontal_Distance_To_Roadways']) / 3 \n",
    "#Mean Distance to Fire and Water \n",
    "test_df['mean_hillshade'] = (test_df['Hillshade_9am']  + test_df['Hillshade_Noon']  + test_df['Hillshade_3pm'] ) / 3\n",
    "test_df[\"Vertical_Distance_To_Hydrology\"] = abs(test_df['Vertical_Distance_To_Hydrology'])\n",
    "test_df['Mean_HorizontalHydrology_HorizontalFire'] = (test_df['Horizontal_Distance_To_Hydrology']+test_df['Horizontal_Distance_To_Fire_Points'])/2\n",
    "test_df['Mean_HorizontalHydrology_HorizontalRoadways'] = (test_df['Horizontal_Distance_To_Hydrology']+test_df['Horizontal_Distance_To_Roadways'])/2\n",
    "test_df['Mean_HorizontalFire_Points_HorizontalRoadways'] = (test_df['Horizontal_Distance_To_Fire_Points']+test_df['Horizontal_Distance_To_Roadways'])/2\n",
    "\n",
    "test_df['MeanNeg_Mean_HorizontalHydrology_HorizontalFire'] = (test_df['Horizontal_Distance_To_Hydrology']-test_df['Horizontal_Distance_To_Fire_Points'])/2\n",
    "test_df['MeanNeg_HorizontalHydrology_HorizontalRoadways'] = (test_df['Horizontal_Distance_To_Hydrology']-test_df['Horizontal_Distance_To_Roadways'])/2\n",
    "test_df['MeanNeg_HorizontalFire_Points_HorizontalRoadways'] = (test_df['Horizontal_Distance_To_Fire_Points']-test_df['Horizontal_Distance_To_Roadways'])/2\n",
    "# test_df['angle'] = test_df['Slope'] * test_df['Elevation']\n"
   ]
  },
  {
   "cell_type": "code",
   "execution_count": 4,
   "metadata": {
    "_uuid": "e37829eb89d6dd26f8406595c12916de0094e5fd"
   },
   "outputs": [],
   "source": [
    "from sklearn.preprocessing import StandardScaler\n",
    "# scaler = MinMaxScaler(feature_range=(-100,100))\n",
    "scaler = StandardScaler()\n",
    "x_scale = scaler.fit_transform(x_train)"
   ]
  },
  {
   "cell_type": "code",
   "execution_count": 5,
   "metadata": {
    "_uuid": "71205d253b47bdc8f288dfaef843766a5c14bc9a"
   },
   "outputs": [
    {
     "name": "stderr",
     "output_type": "stream",
     "text": [
      "c:\\users\\user\\appdata\\local\\programs\\python\\python36\\lib\\site-packages\\sklearn\\cross_validation.py:41: DeprecationWarning: This module was deprecated in version 0.18 in favor of the model_selection module into which all the refactored classes and functions are moved. Also note that the interface of the new CV iterators are different from that of this module. This module will be removed in 0.20.\n",
      "  \"This module will be removed in 0.20.\", DeprecationWarning)\n"
     ]
    }
   ],
   "source": [
    "from sklearn.cross_validation import train_test_split\n",
    "x, x_test, y, y_test = train_test_split(x_train, y_train , random_state = 0,test_size=0.2)"
   ]
  },
  {
   "cell_type": "code",
   "execution_count": 27,
   "metadata": {},
   "outputs": [
    {
     "name": "stdout",
     "output_type": "stream",
     "text": [
      "Training Accuracy: 100.0%\n",
      "Testing Accuracy: 89.0542328042328%\n",
      "Wall time: 22.8 s\n"
     ]
    }
   ],
   "source": [
    "%%time\n",
    "\n",
    "m1 = ensemble.AdaBoostClassifier(ensemble.ExtraTreesClassifier(n_estimators=1050), n_estimators=250, learning_rate=1, algorithm='SAMME')  \n",
    "m1.fit(x, y) \n",
    "print('Training Accuracy: {}%'.format(m1.score(x,y)*100))\n",
    "print ('Testing Accuracy: {}%'.format(m1.score(x_test,y_test)*100))"
   ]
  },
  {
   "cell_type": "code",
   "execution_count": 16,
   "metadata": {},
   "outputs": [
    {
     "name": "stdout",
     "output_type": "stream",
     "text": [
      "Training Accuracy: 100.0%\n",
      "Testing Accuracy: 89.15343915343915%\n",
      "Wall time: 18.5 s\n"
     ]
    }
   ],
   "source": [
    "%%time\n",
    "m2 = ensemble.ExtraTreesClassifier(n_estimators=1050,max_depth=35)  \n",
    "m2.fit(x, y) \n",
    "print('Training Accuracy: {}%'.format(m2.score(x,y)*100))\n",
    "print ('Testing Accuracy: {}%'.format(m2.score(x_test,y_test)*100))"
   ]
  },
  {
   "cell_type": "markdown",
   "metadata": {},
   "source": [
    "### GridSearchCV\n",
    "using grid search to find the best parameters"
   ]
  },
  {
   "cell_type": "code",
   "execution_count": 30,
   "metadata": {},
   "outputs": [
    {
     "name": "stdout",
     "output_type": "stream",
     "text": [
      "# Tuning hyper-parameters for precision\n",
      "\n",
      "Best parameters set found on development set:\n",
      "\n",
      "{'n_estimators': 750}\n",
      "\n",
      "Grid scores on development set:\n",
      "\n",
      "0.896 (+/-0.010) for {'n_estimators': 750}\n",
      "0.895 (+/-0.009) for {'n_estimators': 800}\n",
      "0.895 (+/-0.007) for {'n_estimators': 850}\n",
      "0.894 (+/-0.008) for {'n_estimators': 900}\n",
      "0.895 (+/-0.010) for {'n_estimators': 950}\n",
      "\n",
      "Detailed classification report:\n",
      "\n",
      "The model is trained on the full development set.\n",
      "The scores are computed on the full evaluation set.\n",
      "\n",
      "             precision    recall  f1-score   support\n",
      "\n",
      "          1       0.85      0.79      0.82       439\n",
      "          2       0.80      0.77      0.79       411\n",
      "          3       0.85      0.87      0.86       418\n",
      "          4       0.93      0.97      0.95       438\n",
      "          5       0.92      0.96      0.94       428\n",
      "          6       0.92      0.89      0.90       471\n",
      "          7       0.95      0.97      0.96       419\n",
      "\n",
      "avg / total       0.89      0.89      0.89      3024\n",
      "\n",
      "# Tuning hyper-parameters for recall\n",
      "\n",
      "Best parameters set found on development set:\n",
      "\n",
      "{'n_estimators': 750}\n",
      "\n",
      "Grid scores on development set:\n",
      "\n",
      "0.897 (+/-0.009) for {'n_estimators': 750}\n",
      "0.897 (+/-0.009) for {'n_estimators': 800}\n",
      "0.897 (+/-0.009) for {'n_estimators': 850}\n",
      "0.897 (+/-0.009) for {'n_estimators': 900}\n",
      "0.897 (+/-0.009) for {'n_estimators': 950}\n",
      "\n",
      "Detailed classification report:\n",
      "\n",
      "The model is trained on the full development set.\n",
      "The scores are computed on the full evaluation set.\n",
      "\n",
      "             precision    recall  f1-score   support\n",
      "\n",
      "          1       0.85      0.80      0.82       439\n",
      "          2       0.81      0.77      0.79       411\n",
      "          3       0.86      0.87      0.86       418\n",
      "          4       0.94      0.97      0.95       438\n",
      "          5       0.92      0.96      0.94       428\n",
      "          6       0.91      0.89      0.90       471\n",
      "          7       0.95      0.97      0.96       419\n",
      "\n",
      "avg / total       0.89      0.89      0.89      3024\n",
      "\n",
      "Wall time: 17min 47s\n"
     ]
    }
   ],
   "source": [
    "%%time\n",
    "from sklearn.grid_search import GridSearchCV\n",
    "from sklearn.metrics import classification_report\n",
    "tuned_parameters = [{'n_estimators': [i for i in range(750,1000,50)]}]\n",
    "\n",
    "scores = ['precision', 'recall']\n",
    " \n",
    "for score in scores:\n",
    "    print(\"# Tuning hyper-parameters for %s\" % score)\n",
    "    print()\n",
    " \n",
    "    clf = GridSearchCV(ensemble.AdaBoostClassifier(ensemble.ExtraTreesClassifier(n_estimators=1050)), tuned_parameters, cv=5,\n",
    "                       scoring='%s_weighted' % score)\n",
    "    clf.fit(x, y)\n",
    " \n",
    "    print(\"Best parameters set found on development set:\")\n",
    "    print()\n",
    "    print(clf.best_params_)\n",
    "    print()\n",
    "    print(\"Grid scores on development set:\")\n",
    "    print()\n",
    "    for params, mean_score, scores in clf.grid_scores_:\n",
    "        print(\"%0.3f (+/-%0.03f) for %r\"\n",
    "              % (mean_score, scores.std() * 2, params))\n",
    "    print()\n",
    " \n",
    "    print(\"Detailed classification report:\")\n",
    "    print()\n",
    "    print(\"The model is trained on the full development set.\")\n",
    "    print(\"The scores are computed on the full evaluation set.\")\n",
    "    print()\n",
    "    y_true, y_pred = y_test, clf.predict(x_test)\n",
    "    print(classification_report(y_true, y_pred))\n"
   ]
  },
  {
   "cell_type": "code",
   "execution_count": null,
   "metadata": {},
   "outputs": [],
   "source": []
  },
  {
   "cell_type": "code",
   "execution_count": 29,
   "metadata": {},
   "outputs": [
    {
     "name": "stderr",
     "output_type": "stream",
     "text": [
      "c:\\users\\user\\appdata\\local\\programs\\python\\python36\\lib\\site-packages\\sklearn\\preprocessing\\label.py:151: DeprecationWarning: The truth value of an empty array is ambiguous. Returning False, but in future this will result in an error. Use `array.size > 0` to check that an array is not empty.\n",
      "  if diff:\n"
     ]
    },
    {
     "name": "stdout",
     "output_type": "stream",
     "text": [
      "Training Accuracy: 100.0%\n",
      "Testing Accuracy: 88.78968253968253%\n",
      "Wall time: 34.2 s\n"
     ]
    },
    {
     "name": "stderr",
     "output_type": "stream",
     "text": [
      "c:\\users\\user\\appdata\\local\\programs\\python\\python36\\lib\\site-packages\\sklearn\\preprocessing\\label.py:151: DeprecationWarning: The truth value of an empty array is ambiguous. Returning False, but in future this will result in an error. Use `array.size > 0` to check that an array is not empty.\n",
      "  if diff:\n"
     ]
    }
   ],
   "source": [
    "%%time\n",
    "from lightgbm import LGBMClassifier\n",
    "m3 = LGBMClassifier(n_estimators=2000)\n",
    "m3.fit(x, y)\n",
    "print('Training Accuracy: {}%'.format(m3.score(x,y)*100))\n",
    "print ('Testing Accuracy: {}%'.format(m3.score(x_test,y_test)*100))"
   ]
  },
  {
   "cell_type": "code",
   "execution_count": 35,
   "metadata": {
    "_uuid": "4abd2ea473b5abb3b623e5c05a21b55af6b9de75"
   },
   "outputs": [
    {
     "name": "stdout",
     "output_type": "stream",
     "text": [
      "training on data ... \n"
     ]
    },
    {
     "name": "stderr",
     "output_type": "stream",
     "text": [
      "c:\\users\\user\\appdata\\local\\programs\\python\\python36\\lib\\site-packages\\sklearn\\preprocessing\\label.py:151: DeprecationWarning: The truth value of an empty array is ambiguous. Returning False, but in future this will result in an error. Use `array.size > 0` to check that an array is not empty.\n",
      "  if diff:\n"
     ]
    },
    {
     "name": "stdout",
     "output_type": "stream",
     "text": [
      "Training Accuracy: 100.0%\n",
      "Testing Accuracy: 88.98809523809523%\n",
      "Wall time: 1min 18s\n"
     ]
    },
    {
     "name": "stderr",
     "output_type": "stream",
     "text": [
      "c:\\users\\user\\appdata\\local\\programs\\python\\python36\\lib\\site-packages\\sklearn\\preprocessing\\label.py:151: DeprecationWarning: The truth value of an empty array is ambiguous. Returning False, but in future this will result in an error. Use `array.size > 0` to check that an array is not empty.\n",
      "  if diff:\n"
     ]
    }
   ],
   "source": [
    "%%time\n",
    "print (\"training on data ... \")\n",
    "from xgboost import XGBClassifier\n",
    "from sklearn.linear_model import LogisticRegression\n",
    "from sklearn.linear_model import SGDClassifier\n",
    "from sklearn.model_selection import GridSearchCV\n",
    "\n",
    "model=VotingClassifier(estimators=[('clf1', ensemble.ExtraTreesClassifier(n_estimators=950)),\n",
    "#                                    ('clf2', LogisticRegression()),\n",
    "                                  ('clf3',XGBClassifier( learning_rate =0.1,\n",
    "                                             n_estimators=400,\n",
    "                                             max_depth=25,\n",
    "                                             min_child_weight=1,\n",
    "                                             gamma=1,\n",
    "                                             subsample=0.8,\n",
    "                                             colsample_bytree=0.8,\n",
    "                                             objective= 'multi:softmax',\n",
    "                                             nthread=4,\n",
    "                                             scale_pos_weight=1,\n",
    "                                             seed=27))], voting='soft',weights=[3,1])\n",
    "\n",
    "model.fit(x, y)\n",
    "\n",
    "print('Training Accuracy: {}%'.format(model.score(x,y)*100))\n",
    "print ('Testing Accuracy: {}%'.format(model.score(x_test,y_test)*100))"
   ]
  },
  {
   "cell_type": "code",
   "execution_count": 13,
   "metadata": {},
   "outputs": [
    {
     "name": "stderr",
     "output_type": "stream",
     "text": [
      "Using TensorFlow backend.\n"
     ]
    }
   ],
   "source": [
    "\n",
    "from keras.utils.np_utils import to_categorical # convert to one-hot-encoding\n",
    "from keras.models import Sequential\n",
    "from keras.layers import Dense, Dropout, Flatten, Conv1D, MaxPool1D, GlobalAveragePooling1D, BatchNormalization\n",
    "from keras.optimizers import RMSprop, SGD, Adam\n",
    "from keras.preprocessing.image import ImageDataGenerator\n",
    "from keras.callbacks import ReduceLROnPlateau, EarlyStopping\n"
   ]
  },
  {
   "cell_type": "code",
   "execution_count": 14,
   "metadata": {},
   "outputs": [],
   "source": [
    "from sklearn.cross_validation import train_test_split\n",
    "from sklearn.preprocessing import StandardScaler\n",
    "y = to_categorical(y_train, num_classes=8)\n",
    "random_seed = 2\n",
    "# scaler = MinMaxScaler(feature_range=(-10,10))\n",
    "scaler = StandardScaler()\n",
    "x_scale = scaler.fit_transform(x_train)\n",
    "test_scale = scaler.transform(test_df)\n",
    "# Split the train and the validation set for the fitting\n",
    "X_train, X_val, Y_train, Y_val = train_test_split(x_scale, y, test_size = 0.2, random_state=random_seed)"
   ]
  },
  {
   "cell_type": "code",
   "execution_count": 24,
   "metadata": {},
   "outputs": [],
   "source": [
    "model = Sequential()\n",
    "model.add(Dense(128, activation='tanh', input_shape=(66,)))\n",
    "model.add(Dense(128, activation = \"tanh\"))\n",
    "model.add(Dropout(0.2))\n",
    "model.add(Dense(64, activation = \"tanh\"))\n",
    "model.add(Dense(64, activation = \"tanh\"))\n",
    "model.add(Dense(32, activation = \"tanh\"))\n",
    "model.add(Dense(32, activation = \"tanh\"))\n",
    "model.add(Dropout(0.5))\n",
    "model.add(Dense(8, activation = \"sigmoid\"))"
   ]
  },
  {
   "cell_type": "code",
   "execution_count": 25,
   "metadata": {},
   "outputs": [],
   "source": [
    "optimizer = RMSprop(lr=0.001, rho=0.9, epsilon=1e-08, decay=1e-04)\n",
    "optimizer1 = Adam(lr=0.001, decay=1e-4)\n",
    "optimizer2 = SGD(lr=0.1, decay=1e-4)\n",
    "model.compile(optimizer = optimizer1 , loss = \"categorical_crossentropy\", metrics=[\"accuracy\"])\n",
    "# Set a learning rate annealer\n",
    "learning_rate_reduction = ReduceLROnPlateau(monitor='val_acc', \n",
    "                                            patience=0.01, \n",
    "                                            verbose=1, \n",
    "                                            factor=0.05, \n",
    "                                            min_lr=0.0001)\n",
    "earlystopping = EarlyStopping(monitor='val_acc', patience=0.001, verbose=1, mode='auto')"
   ]
  },
  {
   "cell_type": "code",
   "execution_count": 26,
   "metadata": {},
   "outputs": [
    {
     "name": "stdout",
     "output_type": "stream",
     "text": [
      "Train on 12096 samples, validate on 3024 samples\n",
      "Epoch 1/100\n",
      "12096/12096 [==============================] - 1s 50us/step - loss: 1.6565 - acc: 0.4322 - val_loss: 1.3919 - val_acc: 0.5982\n",
      "Epoch 2/100\n",
      "12096/12096 [==============================] - 0s 19us/step - loss: 1.3590 - acc: 0.5112 - val_loss: 1.1834 - val_acc: 0.6009\n",
      "Epoch 3/100\n",
      "12096/12096 [==============================] - 0s 18us/step - loss: 1.2013 - acc: 0.5365 - val_loss: 1.0216 - val_acc: 0.6478\n",
      "Epoch 4/100\n",
      "12096/12096 [==============================] - 0s 18us/step - loss: 1.0744 - acc: 0.5872 - val_loss: 0.8893 - val_acc: 0.6766\n",
      "Epoch 5/100\n",
      "12096/12096 [==============================] - 0s 18us/step - loss: 0.9790 - acc: 0.6316 - val_loss: 0.7996 - val_acc: 0.7007\n",
      "Epoch 6/100\n",
      "12096/12096 [==============================] - 0s 17us/step - loss: 0.9048 - acc: 0.6562 - val_loss: 0.7366 - val_acc: 0.7183\n",
      "Epoch 7/100\n",
      "12096/12096 [==============================] - 0s 18us/step - loss: 0.8576 - acc: 0.6687 - val_loss: 0.6998 - val_acc: 0.7196\n",
      "Epoch 8/100\n",
      "12096/12096 [==============================] - 0s 20us/step - loss: 0.8107 - acc: 0.6962 - val_loss: 0.6757 - val_acc: 0.7272\n",
      "Epoch 9/100\n",
      "12096/12096 [==============================] - 0s 21us/step - loss: 0.7812 - acc: 0.7063 - val_loss: 0.6343 - val_acc: 0.7437\n",
      "Epoch 10/100\n",
      "12096/12096 [==============================] - 0s 21us/step - loss: 0.7535 - acc: 0.7133 - val_loss: 0.6183 - val_acc: 0.7474\n",
      "Epoch 11/100\n",
      "12096/12096 [==============================] - 0s 22us/step - loss: 0.7322 - acc: 0.7257 - val_loss: 0.6063 - val_acc: 0.7460\n",
      "Epoch 12/100\n",
      "12096/12096 [==============================] - 0s 21us/step - loss: 0.7032 - acc: 0.7334 - val_loss: 0.5874 - val_acc: 0.7593\n",
      "Epoch 13/100\n",
      "12096/12096 [==============================] - 0s 21us/step - loss: 0.6983 - acc: 0.7412 - val_loss: 0.5721 - val_acc: 0.7662\n",
      "Epoch 14/100\n",
      "12096/12096 [==============================] - 0s 19us/step - loss: 0.6709 - acc: 0.7443 - val_loss: 0.5682 - val_acc: 0.7636\n",
      "Epoch 15/100\n",
      "12096/12096 [==============================] - 0s 24us/step - loss: 0.6674 - acc: 0.7471 - val_loss: 0.5489 - val_acc: 0.7682\n",
      "Epoch 16/100\n",
      "12096/12096 [==============================] - 0s 18us/step - loss: 0.6477 - acc: 0.7545 - val_loss: 0.5565 - val_acc: 0.7682\n",
      "Epoch 17/100\n",
      "12096/12096 [==============================] - 0s 21us/step - loss: 0.6339 - acc: 0.7650 - val_loss: 0.5302 - val_acc: 0.7837\n",
      "Epoch 18/100\n",
      "12096/12096 [==============================] - 0s 22us/step - loss: 0.6228 - acc: 0.7665 - val_loss: 0.5371 - val_acc: 0.7821\n",
      "Epoch 19/100\n",
      "12096/12096 [==============================] - 0s 18us/step - loss: 0.6066 - acc: 0.7738 - val_loss: 0.5281 - val_acc: 0.7824\n",
      "Epoch 20/100\n",
      "12096/12096 [==============================] - 0s 18us/step - loss: 0.5938 - acc: 0.7786 - val_loss: 0.5231 - val_acc: 0.7887\n",
      "Epoch 21/100\n",
      "12096/12096 [==============================] - 0s 18us/step - loss: 0.5928 - acc: 0.7780 - val_loss: 0.5142 - val_acc: 0.7920\n",
      "Epoch 22/100\n",
      "12096/12096 [==============================] - 0s 18us/step - loss: 0.5840 - acc: 0.7854 - val_loss: 0.5021 - val_acc: 0.7946\n",
      "Epoch 23/100\n",
      "12096/12096 [==============================] - 0s 18us/step - loss: 0.5755 - acc: 0.7846 - val_loss: 0.4932 - val_acc: 0.8075\n",
      "Epoch 24/100\n",
      "12096/12096 [==============================] - 0s 18us/step - loss: 0.5598 - acc: 0.7976 - val_loss: 0.4848 - val_acc: 0.8105\n",
      "Epoch 25/100\n",
      "12096/12096 [==============================] - 0s 20us/step - loss: 0.5568 - acc: 0.7936 - val_loss: 0.5182 - val_acc: 0.7960\n",
      "Epoch 26/100\n",
      "12096/12096 [==============================] - 0s 20us/step - loss: 0.5447 - acc: 0.7981 - val_loss: 0.4771 - val_acc: 0.8125\n",
      "Epoch 27/100\n",
      "12096/12096 [==============================] - 0s 18us/step - loss: 0.5346 - acc: 0.7997 - val_loss: 0.4816 - val_acc: 0.8168\n",
      "Epoch 28/100\n",
      "12096/12096 [==============================] - 0s 18us/step - loss: 0.5290 - acc: 0.8080 - val_loss: 0.4678 - val_acc: 0.8221\n",
      "Epoch 29/100\n",
      "12096/12096 [==============================] - 0s 18us/step - loss: 0.5258 - acc: 0.8067 - val_loss: 0.4854 - val_acc: 0.8099\n",
      "Epoch 30/100\n",
      "12096/12096 [==============================] - 0s 18us/step - loss: 0.5153 - acc: 0.8132 - val_loss: 0.4785 - val_acc: 0.8085\n",
      "Epoch 31/100\n",
      "12096/12096 [==============================] - 0s 20us/step - loss: 0.5125 - acc: 0.8122 - val_loss: 0.4610 - val_acc: 0.8185\n",
      "Epoch 32/100\n",
      "12096/12096 [==============================] - 0s 19us/step - loss: 0.5012 - acc: 0.8130 - val_loss: 0.4687 - val_acc: 0.8105\n",
      "Epoch 33/100\n",
      "12096/12096 [==============================] - 0s 21us/step - loss: 0.4927 - acc: 0.8223 - val_loss: 0.4677 - val_acc: 0.8145\n",
      "Epoch 34/100\n",
      "12096/12096 [==============================] - 0s 18us/step - loss: 0.4887 - acc: 0.8220 - val_loss: 0.4516 - val_acc: 0.8198\n",
      "Epoch 35/100\n",
      "12096/12096 [==============================] - 0s 18us/step - loss: 0.4830 - acc: 0.8256 - val_loss: 0.4513 - val_acc: 0.8267\n",
      "Epoch 36/100\n",
      "12096/12096 [==============================] - 0s 18us/step - loss: 0.4835 - acc: 0.8292 - val_loss: 0.4603 - val_acc: 0.8204\n",
      "Epoch 37/100\n",
      "12096/12096 [==============================] - 0s 19us/step - loss: 0.4706 - acc: 0.8303 - val_loss: 0.4538 - val_acc: 0.8267\n",
      "Epoch 38/100\n",
      "12096/12096 [==============================] - 0s 19us/step - loss: 0.4710 - acc: 0.8303 - val_loss: 0.4574 - val_acc: 0.8294\n",
      "Epoch 39/100\n",
      "12096/12096 [==============================] - 0s 18us/step - loss: 0.4643 - acc: 0.8332 - val_loss: 0.4750 - val_acc: 0.8188\n",
      "Epoch 40/100\n",
      "12096/12096 [==============================] - 0s 18us/step - loss: 0.4712 - acc: 0.8333 - val_loss: 0.4258 - val_acc: 0.8403\n",
      "Epoch 41/100\n",
      "12096/12096 [==============================] - 0s 22us/step - loss: 0.4490 - acc: 0.8388 - val_loss: 0.4322 - val_acc: 0.8327\n",
      "Epoch 42/100\n",
      "12096/12096 [==============================] - 0s 19us/step - loss: 0.4652 - acc: 0.8354 - val_loss: 0.4254 - val_acc: 0.8370\n",
      "Epoch 43/100\n",
      "12096/12096 [==============================] - 0s 19us/step - loss: 0.4546 - acc: 0.8419 - val_loss: 0.4232 - val_acc: 0.8340\n",
      "Epoch 44/100\n",
      "12096/12096 [==============================] - 0s 18us/step - loss: 0.4394 - acc: 0.8461 - val_loss: 0.4278 - val_acc: 0.8347\n",
      "Epoch 45/100\n",
      "12096/12096 [==============================] - 0s 18us/step - loss: 0.4265 - acc: 0.8466 - val_loss: 0.4304 - val_acc: 0.8386\n",
      "Epoch 46/100\n",
      "12096/12096 [==============================] - 0s 20us/step - loss: 0.4375 - acc: 0.8442 - val_loss: 0.4457 - val_acc: 0.8340\n",
      "Epoch 47/100\n",
      "12096/12096 [==============================] - 0s 19us/step - loss: 0.4215 - acc: 0.8503 - val_loss: 0.4234 - val_acc: 0.8396\n",
      "Epoch 48/100\n",
      "12096/12096 [==============================] - 0s 18us/step - loss: 0.4271 - acc: 0.8505 - val_loss: 0.4429 - val_acc: 0.8373\n",
      "Epoch 49/100\n",
      "12096/12096 [==============================] - 0s 20us/step - loss: 0.4184 - acc: 0.8523 - val_loss: 0.4409 - val_acc: 0.8350\n",
      "Epoch 50/100\n",
      "12096/12096 [==============================] - 0s 18us/step - loss: 0.4119 - acc: 0.8560 - val_loss: 0.4184 - val_acc: 0.8442\n",
      "Epoch 51/100\n",
      "12096/12096 [==============================] - 0s 21us/step - loss: 0.4222 - acc: 0.8527 - val_loss: 0.4375 - val_acc: 0.8436\n",
      "Epoch 52/100\n",
      "12096/12096 [==============================] - 0s 20us/step - loss: 0.4271 - acc: 0.8479 - val_loss: 0.4169 - val_acc: 0.8452\n",
      "Epoch 53/100\n",
      "12096/12096 [==============================] - 0s 19us/step - loss: 0.4089 - acc: 0.8568 - val_loss: 0.4101 - val_acc: 0.8505\n",
      "Epoch 54/100\n",
      "12096/12096 [==============================] - 0s 18us/step - loss: 0.4087 - acc: 0.8533 - val_loss: 0.4241 - val_acc: 0.8429\n",
      "Epoch 55/100\n",
      "12096/12096 [==============================] - 0s 18us/step - loss: 0.3978 - acc: 0.8587 - val_loss: 0.4220 - val_acc: 0.8492\n",
      "Epoch 56/100\n",
      "12096/12096 [==============================] - 0s 19us/step - loss: 0.4002 - acc: 0.8622 - val_loss: 0.4212 - val_acc: 0.8469\n",
      "Epoch 57/100\n",
      "12096/12096 [==============================] - 0s 19us/step - loss: 0.3907 - acc: 0.8603 - val_loss: 0.4147 - val_acc: 0.8499\n",
      "Epoch 58/100\n",
      "12096/12096 [==============================] - 0s 19us/step - loss: 0.3881 - acc: 0.8639 - val_loss: 0.4094 - val_acc: 0.8509\n",
      "Epoch 59/100\n",
      "12096/12096 [==============================] - 0s 21us/step - loss: 0.3838 - acc: 0.8678 - val_loss: 0.4131 - val_acc: 0.8509\n",
      "Epoch 60/100\n",
      "12096/12096 [==============================] - 0s 19us/step - loss: 0.3837 - acc: 0.8651 - val_loss: 0.3975 - val_acc: 0.8575\n",
      "Epoch 61/100\n",
      "12096/12096 [==============================] - 0s 20us/step - loss: 0.3882 - acc: 0.8644 - val_loss: 0.4138 - val_acc: 0.8522\n",
      "Epoch 62/100\n",
      "12096/12096 [==============================] - 0s 19us/step - loss: 0.3814 - acc: 0.8653 - val_loss: 0.4151 - val_acc: 0.8532\n",
      "Epoch 63/100\n",
      "12096/12096 [==============================] - 0s 21us/step - loss: 0.3746 - acc: 0.8676 - val_loss: 0.4069 - val_acc: 0.8535\n",
      "Epoch 64/100\n",
      "12096/12096 [==============================] - 0s 19us/step - loss: 0.3774 - acc: 0.8652 - val_loss: 0.4153 - val_acc: 0.8535\n",
      "Epoch 65/100\n",
      "12096/12096 [==============================] - 0s 19us/step - loss: 0.3651 - acc: 0.8714 - val_loss: 0.3975 - val_acc: 0.8568\n",
      "Epoch 66/100\n",
      "12096/12096 [==============================] - 0s 20us/step - loss: 0.3666 - acc: 0.8732 - val_loss: 0.4016 - val_acc: 0.8558\n",
      "Epoch 67/100\n",
      "12096/12096 [==============================] - 0s 21us/step - loss: 0.3619 - acc: 0.8719 - val_loss: 0.4084 - val_acc: 0.8538\n",
      "Epoch 68/100\n",
      "12096/12096 [==============================] - 0s 21us/step - loss: 0.3666 - acc: 0.8745 - val_loss: 0.4161 - val_acc: 0.8585\n",
      "Epoch 69/100\n",
      "12096/12096 [==============================] - 0s 20us/step - loss: 0.3628 - acc: 0.8752 - val_loss: 0.4061 - val_acc: 0.8575\n",
      "Epoch 70/100\n",
      "12096/12096 [==============================] - 0s 19us/step - loss: 0.3610 - acc: 0.8720 - val_loss: 0.4022 - val_acc: 0.8562\n",
      "Epoch 71/100\n",
      "12096/12096 [==============================] - 0s 20us/step - loss: 0.3541 - acc: 0.8790 - val_loss: 0.4155 - val_acc: 0.8515\n",
      "Epoch 72/100\n",
      "12096/12096 [==============================] - 0s 21us/step - loss: 0.3525 - acc: 0.8758 - val_loss: 0.3974 - val_acc: 0.8628\n",
      "Epoch 73/100\n",
      "12096/12096 [==============================] - 0s 25us/step - loss: 0.3558 - acc: 0.8776 - val_loss: 0.4111 - val_acc: 0.8591\n",
      "Epoch 74/100\n",
      "12096/12096 [==============================] - 0s 21us/step - loss: 0.3481 - acc: 0.8818 - val_loss: 0.4066 - val_acc: 0.8552\n",
      "Epoch 75/100\n",
      "12096/12096 [==============================] - 0s 19us/step - loss: 0.3453 - acc: 0.8818 - val_loss: 0.4021 - val_acc: 0.8595\n",
      "Epoch 76/100\n",
      "12096/12096 [==============================] - 0s 19us/step - loss: 0.3408 - acc: 0.8853 - val_loss: 0.3948 - val_acc: 0.8628\n",
      "Epoch 77/100\n",
      "12096/12096 [==============================] - 0s 19us/step - loss: 0.3379 - acc: 0.8809 - val_loss: 0.4019 - val_acc: 0.8664\n",
      "Epoch 78/100\n",
      "12096/12096 [==============================] - 0s 18us/step - loss: 0.3352 - acc: 0.8843 - val_loss: 0.4014 - val_acc: 0.8641\n",
      "Epoch 79/100\n",
      "12096/12096 [==============================] - 0s 25us/step - loss: 0.3404 - acc: 0.8791 - val_loss: 0.3989 - val_acc: 0.8604\n",
      "Epoch 80/100\n",
      "12096/12096 [==============================] - 0s 22us/step - loss: 0.3413 - acc: 0.8807 - val_loss: 0.4002 - val_acc: 0.8588\n",
      "Epoch 81/100\n",
      "12096/12096 [==============================] - 0s 19us/step - loss: 0.3368 - acc: 0.8842 - val_loss: 0.4035 - val_acc: 0.8641\n",
      "Epoch 82/100\n",
      "12096/12096 [==============================] - 0s 20us/step - loss: 0.3253 - acc: 0.8867 - val_loss: 0.4134 - val_acc: 0.8588\n",
      "Epoch 83/100\n",
      "12096/12096 [==============================] - 0s 20us/step - loss: 0.3303 - acc: 0.8882 - val_loss: 0.4011 - val_acc: 0.8654\n",
      "Epoch 84/100\n",
      "12096/12096 [==============================] - 0s 19us/step - loss: 0.3208 - acc: 0.8853 - val_loss: 0.4019 - val_acc: 0.8677\n",
      "Epoch 85/100\n",
      "12096/12096 [==============================] - 0s 18us/step - loss: 0.3212 - acc: 0.8881 - val_loss: 0.3909 - val_acc: 0.8684\n",
      "Epoch 86/100\n",
      "12096/12096 [==============================] - 0s 18us/step - loss: 0.3243 - acc: 0.8889 - val_loss: 0.4017 - val_acc: 0.8641\n",
      "Epoch 87/100\n",
      "12096/12096 [==============================] - 0s 18us/step - loss: 0.3279 - acc: 0.8872 - val_loss: 0.4017 - val_acc: 0.8647\n",
      "Epoch 88/100\n",
      "12096/12096 [==============================] - 0s 19us/step - loss: 0.3151 - acc: 0.8928 - val_loss: 0.4126 - val_acc: 0.8661\n",
      "Epoch 89/100\n",
      "12096/12096 [==============================] - 0s 18us/step - loss: 0.3195 - acc: 0.8925 - val_loss: 0.3932 - val_acc: 0.8657\n",
      "Epoch 90/100\n",
      "12096/12096 [==============================] - 0s 18us/step - loss: 0.3131 - acc: 0.8941 - val_loss: 0.4106 - val_acc: 0.8641\n",
      "Epoch 91/100\n",
      "12096/12096 [==============================] - 0s 18us/step - loss: 0.3184 - acc: 0.8857 - val_loss: 0.4016 - val_acc: 0.8641\n",
      "Epoch 92/100\n",
      "12096/12096 [==============================] - 0s 19us/step - loss: 0.3118 - acc: 0.8930 - val_loss: 0.4005 - val_acc: 0.8677\n",
      "Epoch 93/100\n",
      "12096/12096 [==============================] - 0s 18us/step - loss: 0.3095 - acc: 0.8939 - val_loss: 0.3966 - val_acc: 0.8677\n",
      "Epoch 94/100\n",
      "12096/12096 [==============================] - 0s 18us/step - loss: 0.3096 - acc: 0.8962 - val_loss: 0.4109 - val_acc: 0.8664\n",
      "Epoch 95/100\n",
      "12096/12096 [==============================] - 0s 18us/step - loss: 0.3089 - acc: 0.8919 - val_loss: 0.4098 - val_acc: 0.8651\n",
      "Epoch 96/100\n",
      "12096/12096 [==============================] - 0s 18us/step - loss: 0.3010 - acc: 0.8950 - val_loss: 0.4028 - val_acc: 0.8694\n",
      "Epoch 97/100\n",
      "12096/12096 [==============================] - 0s 18us/step - loss: 0.2977 - acc: 0.8984 - val_loss: 0.4134 - val_acc: 0.8624\n",
      "Epoch 98/100\n",
      "12096/12096 [==============================] - 0s 18us/step - loss: 0.2975 - acc: 0.8973 - val_loss: 0.4080 - val_acc: 0.8641\n",
      "Epoch 99/100\n",
      "12096/12096 [==============================] - 0s 20us/step - loss: 0.2939 - acc: 0.8997 - val_loss: 0.4071 - val_acc: 0.8671\n",
      "Epoch 100/100\n",
      "12096/12096 [==============================] - 0s 20us/step - loss: 0.2968 - acc: 0.9003 - val_loss: 0.4106 - val_acc: 0.8624\n"
     ]
    }
   ],
   "source": [
    "history = model.fit(X_train, Y_train,\n",
    "                      epochs=100,\n",
    "                      batch_size=256,\n",
    "                      validation_data=(X_val, Y_val),verbose=1)"
   ]
  },
  {
   "cell_type": "code",
   "execution_count": null,
   "metadata": {},
   "outputs": [],
   "source": [
    "# predict results\n",
    "results = model.predict(test_scale)\n",
    "\n",
    "# select the indix with the maximum probability\n",
    "results = np.argmax(results,axis = 1)\n"
   ]
  },
  {
   "cell_type": "code",
   "execution_count": null,
   "metadata": {},
   "outputs": [],
   "source": [
    "results"
   ]
  }
 ],
 "metadata": {
  "kernelspec": {
   "display_name": "Python 3",
   "language": "python",
   "name": "python3"
  },
  "language_info": {
   "codemirror_mode": {
    "name": "ipython",
    "version": 3
   },
   "file_extension": ".py",
   "mimetype": "text/x-python",
   "name": "python",
   "nbconvert_exporter": "python",
   "pygments_lexer": "ipython3",
   "version": "3.6.4"
  }
 },
 "nbformat": 4,
 "nbformat_minor": 1
}
