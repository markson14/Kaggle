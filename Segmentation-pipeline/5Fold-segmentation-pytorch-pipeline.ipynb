{
 "cells": [
  {
   "cell_type": "code",
   "execution_count": 3,
   "metadata": {
    "_cell_guid": "b1076dfc-b9ad-4769-8c92-a6c4dae69d19",
    "_kg_hide-input": true,
    "_kg_hide-output": true,
    "_uuid": "8f2839f25d086af736a60e9eeb907d3b93b6e0e5"
   },
   "outputs": [],
   "source": [
    "import os\n",
    "import cv2\n",
    "import collections\n",
    "import time \n",
    "import tqdm\n",
    "from PIL import Image\n",
    "from functools import partial\n",
    "train_on_gpu = True\n",
    "\n",
    "import gc\n",
    "from radam import RAdam\n",
    "import numpy as np\n",
    "import pandas as pd\n",
    "import matplotlib.pyplot as plt\n",
    "import seaborn as sns\n",
    "%matplotlib inline\n",
    "\n",
    "from sklearn.model_selection import StratifiedKFold,train_test_split\n",
    "from sklearn.metrics import roc_auc_score, classification_report\n",
    "\n",
    "import torchvision\n",
    "import torchvision.transforms as transforms\n",
    "import torch\n",
    "from torch.utils.data import TensorDataset, DataLoader,Dataset\n",
    "import torch.nn as nn\n",
    "import torch.nn.functional as F\n",
    "import torch.optim as optim\n",
    "from torch.optim import lr_scheduler\n",
    "from torch.utils.data.sampler import SubsetRandomSampler\n",
    "from torch.optim.lr_scheduler import StepLR, ReduceLROnPlateau, CosineAnnealingLR\n",
    "from model import metric\n",
    "import albumentations as albu\n",
    "\n",
    "from train import *\n",
    "from inference import *\n",
    "from dataset import *\n",
    "\n",
    "os.environ['CUDA_VISIBLE_DEVICES'] = '8,9,10,11,12,13,14,15'"
   ]
  },
  {
   "cell_type": "markdown",
   "metadata": {},
   "source": [
    "## Data overview\n",
    "\n",
    "Let's have a look at the data first."
   ]
  },
  {
   "cell_type": "code",
   "execution_count": 4,
   "metadata": {},
   "outputs": [
    {
     "name": "stdout",
     "output_type": "stream",
     "text": [
      "There are 5546 images in train dataset\n",
      "There are 3699 images in test dataset\n"
     ]
    }
   ],
   "source": [
    "path = '.'\n",
    "os.listdir(path)\n",
    "train = pd.read_csv(f'{path}/train.csv')[:]\n",
    "sub = pd.read_csv(f'{path}/sample_submission.csv')[:]\n",
    "\n",
    "# original image\n",
    "n_train = len(os.listdir(f'{path}/train_images'))\n",
    "n_test = len(os.listdir(f'{path}/test_images'))\n",
    "\n",
    "print(f'There are {n_train} images in train dataset')\n",
    "print(f'There are {n_test} images in test dataset')\n",
    "train['label'] = train['Image_Label'].apply(lambda x: x.split('_')[1])\n",
    "train['im_id'] = train['Image_Label'].apply(lambda x: x.split('_')[0])\n",
    "sub['label'] = sub['Image_Label'].apply(lambda x: x.split('_')[1])\n",
    "sub['im_id'] = sub['Image_Label'].apply(lambda x: x.split('_')[0])"
   ]
  },
  {
   "cell_type": "markdown",
   "metadata": {},
   "source": [
    "## Preparing data for modelling\n",
    "\n",
    "At first, let's create a list of unique image ids and the count of masks for images. This will allow us to make a stratified split based on this count."
   ]
  },
  {
   "cell_type": "code",
   "execution_count": 5,
   "metadata": {},
   "outputs": [],
   "source": [
    "id_mask_count = train.loc[train['EncodedPixels'].isnull() == False, 'Image_Label'].apply(lambda x: x.split('_')[0]).value_counts().\\\n",
    "reset_index().rename(columns={'index': 'img_id', 'Image_Label': 'count'})\n",
    "# train_ids, valid_ids = train_test_split(id_mask_count['img_id'].values, random_state=42, stratify=id_mask_count['count'], test_size=0.1)\n",
    "test_ids = sub['Image_Label'].apply(lambda x: x.split('_')[0]).drop_duplicates().values"
   ]
  },
  {
   "cell_type": "code",
   "execution_count": 6,
   "metadata": {
    "scrolled": true
   },
   "outputs": [],
   "source": [
    "# pipeline\n",
    "\n",
    "train_parameters = {\n",
    "#     \"ENCODER\": 'efficientnet-b2',\n",
    "    \"ENCODER\": 'resnet34',\n",
    "    \"ENCODER_WEIGHTS\": 'imagenet',\n",
    "    \"ACTIVATION\": None,\n",
    "    \"num_epochs\": 30,\n",
    "    \"num_workers\": 32\n",
    "}\n",
    "def pipeline(net=\"Unet\",rsize=640, KFold=1, batch_size=16*5, test_set=sub):\n",
    "\n",
    "#     net=\"FPN\"\n",
    "#     rsize=256\n",
    "#     KFold=3\n",
    "#     batch_size=8*10\n",
    "#     test_set=sub\n",
    "    loader_fold = []\n",
    "    bs = batch_size\n",
    "    sub = test_set\n",
    "    preprocessing_fn = smp.encoders.get_preprocessing_fn(train_parameters[\"ENCODER\"], train_parameters[\"ENCODER_WEIGHTS\"])\n",
    "\n",
    "    skf = StratifiedKFold(n_splits=20, shuffle=True, random_state=1212)\n",
    "    for k, (train_ids, valid_ids) in enumerate(skf.split(id_mask_count['img_id'].values, id_mask_count[\"count\"])):\n",
    "\n",
    "        # exit\n",
    "        if k == KFold:\n",
    "            break\n",
    "\n",
    "        print(); print('#'*10,'FOLD',k,'#'*10)\n",
    "        print('Train on',len(train_ids),'Validate on',len(valid_ids))\n",
    "\n",
    "        # define train test dataset\n",
    "        train_names = np.array(id_mask_count)[train_ids][::,0]\n",
    "        valid_names = np.array(id_mask_count)[valid_ids][::,0]\n",
    "\n",
    "        train_dataset = CloudDataset(df=train, \n",
    "                                     datatype='train', \n",
    "                                     img_ids=train_names, \n",
    "                                     transforms = get_training_augmentation(rsize), \n",
    "                                     preprocessing=get_preprocessing(preprocessing_fn))\n",
    "        valid_dataset = CloudDataset(df=train, datatype='valid', \n",
    "                                     img_ids=valid_names, \n",
    "                                     transforms = get_validation_augmentation(rsize,'normal'), \n",
    "                                     preprocessing=get_preprocessing(preprocessing_fn))\n",
    "\n",
    "        train_loader = DataLoader(train_dataset, \n",
    "                                  batch_size=bs, \n",
    "                                  shuffle=True, \n",
    "                                  num_workers=train_parameters[\"num_workers\"], \n",
    "                                  pin_memory=True,\n",
    "                                  drop_last=True)\n",
    "        valid_loader = DataLoader(valid_dataset, \n",
    "                                  batch_size=bs, \n",
    "                                  shuffle=False, \n",
    "                                  num_workers=train_parameters[\"num_workers\"])\n",
    "\n",
    "        loaders = {\n",
    "            \"train\": train_loader,\n",
    "            \"valid\": valid_loader\n",
    "        }\n",
    "\n",
    "        loader_fold.append(loaders)\n",
    "\n",
    "        train_parameters[\"loaders\"] = loaders\n",
    "        train_parameters[\"net\"] = net\n",
    "        train_parameters[\"k\"] = k\n",
    "\n",
    "        train_model(train_parameters)\n",
    "    \n",
    "    ## best model\n",
    "    KFold_predict = []\n",
    "    avg_dice = 0\n",
    "    for k in range(KFold):\n",
    "        config = \"best\"\n",
    "        parameters={\n",
    "             \"sub\":sub,\n",
    "             \"k\":k  ,\n",
    "             \"net\":net,\n",
    "             \"config\":config,\n",
    "             \"loader_fold\":loader_fold,\n",
    "             \"test_ids\":test_ids,\n",
    "             \"rsize\":rsize,\n",
    "             \"preprocessing_fn\":preprocessing_fn,\n",
    "             \"avg_dice\":avg_dice,\n",
    "             \"ENCODER\":train_parameters[\"ENCODER\"],\n",
    "             \"ENCODER_WEIGHTS\":train_parameters[\"ENCODER_WEIGHTS\"],\n",
    "             \"ACTIVATION\":train_parameters[\"ACTIVATION\"]\n",
    "        }\n",
    "        pixels_tta, avg_dice = infer_pipeline(parameters)\n",
    "        print(len(pixels_tta))\n",
    "        KFold_predict.append(np.array(pixels_tta))\n",
    "    print(f\"{KFold} Fold Average Dice: \", avg_dice/KFold)\n",
    "    ## Predicting\n",
    "    encoded_pixels_best = []\n",
    "    pixels = sum(KFold_predict)\n",
    "    for i in range(len(pixels)):\n",
    "        p = np.where(pixels[i] >= KFold/2, 1, 0)\n",
    "        if p.sum() == 0:\n",
    "            encoded_pixels_best.append('')\n",
    "        else:\n",
    "            encoded_pixels_best.append(mask2rle(p))\n",
    "    del pixels, KFold_predict\n",
    "\n",
    "\n",
    "\n",
    "    # last model\n",
    "    KFold_predict = []\n",
    "    avg_dice = 0\n",
    "    for k in range(KFold):\n",
    "        config = \"last\"\n",
    "        parameters={\n",
    "             \"sub\":sub,\n",
    "             \"k\":k  ,\n",
    "             \"net\":net,\n",
    "             \"config\":config,\n",
    "             \"loader_fold\":loader_fold,\n",
    "             \"test_ids\":test_ids,\n",
    "             \"rsize\":rsize,\n",
    "             \"preprocessing_fn\":preprocessing_fn,\n",
    "             \"avg_dice\":avg_dice,\n",
    "             \"ENCODER\":train_parameters[\"ENCODER\"],\n",
    "             \"ENCODER_WEIGHTS\":train_parameters[\"ENCODER_WEIGHTS\"],\n",
    "             \"ACTIVATION\":train_parameters[\"ACTIVATION\"]\n",
    "        }\n",
    "        pixels_tta, avg_dice = infer_pipeline(parameters)\n",
    "        KFold_predict.append(np.array(pixels_tta))\n",
    "    print(f\"{KFold} Fold Average Dice: \", avg_dice/KFold)\n",
    "    ## Predicting\n",
    "    encoded_pixels_last = []\n",
    "    pixels = sum(KFold_predict)\n",
    "    for i in range(len(pixels)):\n",
    "        p = np.where(pixels[i] >= KFold/2, 1, 0)\n",
    "        if p.sum() == 0:\n",
    "            encoded_pixels_last.append('')\n",
    "        else:\n",
    "            encoded_pixels_last.append(mask2rle(p))\n",
    "\n",
    "    sub['EncodedPixels_best'] = encoded_pixels_best\n",
    "    sub['EncodedPixels_last'] = encoded_pixels_last\n",
    "    sub.to_csv('{}effib2_{}.csv'.format(net,rsize), columns=['Image_Label', \n",
    "                                                               'EncodedPixels_best',\n",
    "                                                               'EncodedPixels_last'], index=False)\n",
    "\n",
    "    del KFold_predict,pixels_tta,encoded_pixels_best,encoded_pixels_last, pixels\n",
    "    print(\"save success!\")"
   ]
  },
  {
   "cell_type": "markdown",
   "metadata": {},
   "source": [
    "## Model training"
   ]
  },
  {
   "cell_type": "code",
   "execution_count": null,
   "metadata": {
    "scrolled": false
   },
   "outputs": [
    {
     "name": "stdout",
     "output_type": "stream",
     "text": [
      "\n",
      "########## FOLD 0 ##########\n",
      "Train on 5267 Validate on 279\n"
     ]
    },
    {
     "name": "stderr",
     "output_type": "stream",
     "text": [
      "/home/zhangziwei/anaconda3/envs/py36/lib/python3.6/site-packages/albumentations/augmentations/transforms.py:2875: UserWarning:\n",
      "\n",
      "Using lambda is incompatible with multiprocessing. Consider using regular functions or partial().\n",
      "\n"
     ]
    },
    {
     "name": "stdout",
     "output_type": "stream",
     "text": [
      "Let's use 8 GPUs!\n"
     ]
    },
    {
     "data": {
      "application/javascript": [
       "IPython.notebook.save_checkpoint();"
      ],
      "text/plain": [
       "<IPython.core.display.Javascript object>"
      ]
     },
     "metadata": {},
     "output_type": "display_data"
    },
    {
     "data": {
      "application/javascript": [
       "IPython.notebook.save_checkpoint();"
      ],
      "text/plain": [
       "<IPython.core.display.Javascript object>"
      ]
     },
     "metadata": {},
     "output_type": "display_data"
    },
    {
     "data": {
      "application/javascript": [
       "IPython.notebook.save_checkpoint();"
      ],
      "text/plain": [
       "<IPython.core.display.Javascript object>"
      ]
     },
     "metadata": {},
     "output_type": "display_data"
    },
    {
     "name": "stdout",
     "output_type": "stream",
     "text": [
      "1/30 * Epoch (train): 100% 41/41 [02:13<00:00,  3.26s/it, dice=0.479, loss=0.858]\n",
      "1/30 * Epoch (valid): 100% 3/3 [00:27<00:00,  9.07s/it, dice=0.491, loss=0.752]\n",
      "[2019-11-18 20:40:51,332] \n",
      "1/30 * Epoch 1 (train): _base/lr=0.0010 | _base/momentum=0.9000 | _timers/_fps=525.8852 | _timers/batch_time=2.3048 | _timers/data_time=1.1014 | _timers/model_time=1.2033 | dice=0.3738 | loss=1.0782\n",
      "1/30 * Epoch 1 (valid): _base/lr=0.0010 | _base/momentum=0.9000 | _timers/_fps=282.1065 | _timers/batch_time=8.6314 | _timers/data_time=8.4849 | _timers/model_time=0.1462 | dice=0.4846 | loss=0.8298\n",
      "2/30 * Epoch (train): 100% 41/41 [01:33<00:00,  2.29s/it, dice=0.526, loss=0.770]\n",
      "2/30 * Epoch (valid): 100% 3/3 [00:26<00:00,  8.75s/it, dice=0.529, loss=0.707]\n",
      "[2019-11-18 20:43:13,201] \n",
      "2/30 * Epoch 2 (train): _base/lr=0.0100 | _base/momentum=0.9000 | _timers/_fps=526.9155 | _timers/batch_time=1.3132 | _timers/data_time=1.0441 | _timers/model_time=0.2690 | dice=0.5000 | loss=0.8147\n",
      "2/30 * Epoch 2 (valid): _base/lr=0.0100 | _base/momentum=0.9000 | _timers/_fps=211.5647 | _timers/batch_time=8.3187 | _timers/data_time=8.0993 | _timers/model_time=0.2192 | dice=0.5332 | loss=0.7667\n",
      "3/30 * Epoch (train): 100% 41/41 [01:34<00:00,  2.31s/it, dice=0.525, loss=0.770]\n",
      "3/30 * Epoch (valid): 100% 3/3 [00:25<00:00,  8.37s/it, dice=0.548, loss=0.660]\n",
      "[2019-11-18 20:45:32,019] \n",
      "3/30 * Epoch 3 (train): _base/lr=0.0100 | _base/momentum=0.9000 | _timers/_fps=537.8491 | _timers/batch_time=1.3569 | _timers/data_time=1.0962 | _timers/model_time=0.2605 | dice=0.5152 | loss=0.7889\n",
      "3/30 * Epoch 3 (valid): _base/lr=0.0100 | _base/momentum=0.9000 | _timers/_fps=248.9156 | _timers/batch_time=7.9429 | _timers/data_time=7.8001 | _timers/model_time=0.1426 | dice=0.5348 | loss=0.7561\n",
      "4/30 * Epoch (train): 100% 41/41 [01:32<00:00,  2.25s/it, dice=0.522, loss=0.771]\n",
      "4/30 * Epoch (valid): 100% 3/3 [00:26<00:00,  8.91s/it, dice=0.469, loss=0.796]\n",
      "[2019-11-18 20:47:44,986] \n",
      "4/30 * Epoch 4 (train): _base/lr=0.0100 | _base/momentum=0.9000 | _timers/_fps=520.3149 | _timers/batch_time=1.2766 | _timers/data_time=0.9772 | _timers/model_time=0.2992 | dice=0.5230 | loss=0.7703\n",
      "4/30 * Epoch 4 (valid): _base/lr=0.0100 | _base/momentum=0.9000 | _timers/_fps=296.3287 | _timers/batch_time=8.4759 | _timers/data_time=8.3370 | _timers/model_time=0.1387 | dice=0.5015 | loss=0.8182\n",
      "5/30 * Epoch (train): 100% 41/41 [01:33<00:00,  2.28s/it, dice=0.527, loss=0.738]\n",
      "5/30 * Epoch (valid): 100% 3/3 [00:25<00:00,  8.51s/it, dice=0.478, loss=0.795]\n",
      "[2019-11-18 20:50:00,400] \n",
      "5/30 * Epoch 5 (train): _base/lr=0.0100 | _base/momentum=0.9000 | _timers/_fps=505.9957 | _timers/batch_time=1.3229 | _timers/data_time=1.0321 | _timers/model_time=0.2907 | dice=0.5300 | loss=0.7613\n",
      "5/30 * Epoch 5 (valid): _base/lr=0.0100 | _base/momentum=0.9000 | _timers/_fps=312.2913 | _timers/batch_time=8.0622 | _timers/data_time=7.9260 | _timers/model_time=0.1360 | dice=0.5058 | loss=0.8273\n",
      "6/30 * Epoch (train): 100% 41/41 [01:35<00:00,  2.33s/it, dice=0.552, loss=0.732]\n",
      "6/30 * Epoch (valid): 100% 3/3 [00:26<00:00,  8.86s/it, dice=0.559, loss=0.668]\n",
      "[2019-11-18 20:52:17,606] \n",
      "6/30 * Epoch 6 (train): _base/lr=0.0100 | _base/momentum=0.9000 | _timers/_fps=540.9161 | _timers/batch_time=1.3386 | _timers/data_time=1.0630 | _timers/model_time=0.2755 | dice=0.5342 | loss=0.7547\n",
      "6/30 * Epoch 6 (valid): _base/lr=0.0100 | _base/momentum=0.9000 | _timers/_fps=286.4775 | _timers/batch_time=8.3983 | _timers/data_time=8.2662 | _timers/model_time=0.1319 | dice=0.5456 | loss=0.7640\n",
      "7/30 * Epoch (train): 100% 41/41 [01:36<00:00,  2.34s/it, dice=0.552, loss=0.714]\n",
      "7/30 * Epoch (valid): 100% 3/3 [00:28<00:00,  9.35s/it, dice=0.558, loss=0.643]\n",
      "[2019-11-18 20:54:48,803] \n",
      "7/30 * Epoch 7 (train): _base/lr=0.0015 | _base/momentum=0.9000 | _timers/_fps=559.8074 | _timers/batch_time=1.3892 | _timers/data_time=1.1409 | _timers/model_time=0.2482 | dice=0.5516 | loss=0.7216\n",
      "7/30 * Epoch 7 (valid): _base/lr=0.0015 | _base/momentum=0.9000 | _timers/_fps=297.9678 | _timers/batch_time=8.8874 | _timers/data_time=8.7537 | _timers/model_time=0.1333 | dice=0.5501 | loss=0.7286\n",
      "8/30 * Epoch (train): 100% 41/41 [01:34<00:00,  2.31s/it, dice=0.573, loss=0.681]\n",
      "8/30 * Epoch (valid): 100% 3/3 [00:26<00:00,  8.80s/it, dice=0.588, loss=0.595]\n",
      "[2019-11-18 20:57:14,263] \n",
      "8/30 * Epoch 8 (train): _base/lr=0.0015 | _base/momentum=0.9000 | _timers/_fps=524.2548 | _timers/batch_time=1.3355 | _timers/data_time=1.0575 | _timers/model_time=0.2779 | dice=0.5610 | loss=0.7065\n",
      "8/30 * Epoch 8 (valid): _base/lr=0.0015 | _base/momentum=0.9000 | _timers/_fps=289.5941 | _timers/batch_time=8.3613 | _timers/data_time=8.2200 | _timers/model_time=0.1411 | dice=0.5594 | loss=0.7133\n",
      "9/30 * Epoch (train): 100% 41/41 [01:32<00:00,  2.26s/it, dice=0.565, loss=0.736]\n",
      "9/30 * Epoch (valid): 100% 3/3 [00:24<00:00,  8.17s/it, dice=0.552, loss=0.656]\n",
      "[2019-11-18 20:59:23,216] \n",
      "9/30 * Epoch 9 (train): _base/lr=0.0015 | _base/momentum=0.9000 | _timers/_fps=534.9856 | _timers/batch_time=1.2900 | _timers/data_time=1.0154 | _timers/model_time=0.2744 | dice=0.5628 | loss=0.7052\n",
      "9/30 * Epoch 9 (valid): _base/lr=0.0015 | _base/momentum=0.9000 | _timers/_fps=227.9923 | _timers/batch_time=7.7271 | _timers/data_time=7.5184 | _timers/model_time=0.2084 | dice=0.5477 | loss=0.7393\n",
      "10/30 * Epoch (train): 100% 41/41 [01:33<00:00,  2.28s/it, dice=0.564, loss=0.721]\n",
      "10/30 * Epoch (valid): 100% 3/3 [00:28<00:00,  9.50s/it, dice=0.572, loss=0.625]\n",
      "[2019-11-18 21:01:37,955] \n",
      "10/30 * Epoch 10 (train): _base/lr=0.0015 | _base/momentum=0.9000 | _timers/_fps=527.6490 | _timers/batch_time=1.3079 | _timers/data_time=1.0400 | _timers/model_time=0.2678 | dice=0.5665 | loss=0.6991\n",
      "10/30 * Epoch 10 (valid): _base/lr=0.0015 | _base/momentum=0.9000 | _timers/_fps=311.3122 | _timers/batch_time=9.0752 | _timers/data_time=8.9298 | _timers/model_time=0.1452 | dice=0.5554 | loss=0.7236\n",
      "11/30 * Epoch (train): 100% 41/41 [01:34<00:00,  2.31s/it, dice=0.576, loss=0.687]\n",
      "11/30 * Epoch (valid): 100% 3/3 [00:29<00:00,  9.83s/it, dice=0.543, loss=0.681]\n",
      "[2019-11-18 21:03:52,922] \n",
      "11/30 * Epoch 11 (train): _base/lr=0.0015 | _base/momentum=0.9000 | _timers/_fps=529.2565 | _timers/batch_time=1.3483 | _timers/data_time=1.1073 | _timers/model_time=0.2409 | dice=0.5717 | loss=0.6888\n",
      "11/30 * Epoch 11 (valid): _base/lr=0.0015 | _base/momentum=0.9000 | _timers/_fps=288.2070 | _timers/batch_time=9.3987 | _timers/data_time=9.2510 | _timers/model_time=0.1474 | dice=0.5490 | loss=0.7424\n",
      "12/30 * Epoch (train): 100% 41/41 [01:30<00:00,  2.22s/it, dice=0.596, loss=0.660]\n",
      "12/30 * Epoch (valid): 100% 3/3 [00:26<00:00,  8.80s/it, dice=0.569, loss=0.623]\n",
      "[2019-11-18 21:06:04,005] \n",
      "12/30 * Epoch 12 (train): _base/lr=0.0002 | _base/momentum=0.9000 | _timers/_fps=502.4927 | _timers/batch_time=1.2436 | _timers/data_time=0.9360 | _timers/model_time=0.3075 | dice=0.5784 | loss=0.6800\n",
      "12/30 * Epoch 12 (valid): _base/lr=0.0002 | _base/momentum=0.9000 | _timers/_fps=308.0803 | _timers/batch_time=8.3665 | _timers/data_time=8.2272 | _timers/model_time=0.1391 | dice=0.5578 | loss=0.7154\n",
      "13/30 * Epoch (train): 100% 41/41 [01:33<00:00,  2.28s/it, dice=0.565, loss=0.693]\n",
      "13/30 * Epoch (valid): 100% 3/3 [00:29<00:00,  9.72s/it, dice=0.572, loss=0.623]\n",
      "[2019-11-18 21:08:19,626] \n",
      "13/30 * Epoch 13 (train): _base/lr=0.0002 | _base/momentum=0.9000 | _timers/_fps=497.8085 | _timers/batch_time=1.3055 | _timers/data_time=1.0015 | _timers/model_time=0.3039 | dice=0.5812 | loss=0.6773\n",
      "13/30 * Epoch 13 (valid): _base/lr=0.0002 | _base/momentum=0.9000 | _timers/_fps=264.9598 | _timers/batch_time=9.2778 | _timers/data_time=9.1356 | _timers/model_time=0.1420 | dice=0.5598 | loss=0.7146\n",
      "14/30 * Epoch (train): 100% 41/41 [01:33<00:00,  2.28s/it, dice=0.576, loss=0.679]\n",
      "14/30 * Epoch (valid): 100% 3/3 [00:26<00:00,  8.96s/it, dice=0.563, loss=0.643]\n",
      "[2019-11-18 21:10:33,341] \n",
      "14/30 * Epoch 14 (train): _base/lr=0.0002 | _base/momentum=0.9000 | _timers/_fps=529.6479 | _timers/batch_time=1.2991 | _timers/data_time=1.0243 | _timers/model_time=0.2748 | dice=0.5808 | loss=0.6754\n",
      "14/30 * Epoch 14 (valid): _base/lr=0.0002 | _base/momentum=0.9000 | _timers/_fps=308.5050 | _timers/batch_time=8.5134 | _timers/data_time=8.3792 | _timers/model_time=0.1340 | dice=0.5592 | loss=0.7188\n"
     ]
    },
    {
     "name": "stdout",
     "output_type": "stream",
     "text": [
      "15/30 * Epoch (train): 100% 41/41 [01:31<00:00,  2.22s/it, dice=0.583, loss=0.680]\n",
      "15/30 * Epoch (valid): 100% 3/3 [00:29<00:00,  9.83s/it, dice=0.559, loss=0.648]\n",
      "[2019-11-18 21:12:48,558] \n",
      "15/30 * Epoch 15 (train): _base/lr=3.375e-05 | _base/momentum=0.9000 | _timers/_fps=506.6615 | _timers/batch_time=1.2448 | _timers/data_time=0.9292 | _timers/model_time=0.3155 | dice=0.5870 | loss=0.6659\n",
      "15/30 * Epoch 15 (valid): _base/lr=3.375e-05 | _base/momentum=0.9000 | _timers/_fps=296.4589 | _timers/batch_time=9.4018 | _timers/data_time=9.2613 | _timers/model_time=0.1403 | dice=0.5576 | loss=0.7226\n",
      "16/30 * Epoch (train): 100% 41/41 [01:33<00:00,  2.28s/it, dice=0.607, loss=0.637]\n",
      "16/30 * Epoch (valid): 100% 3/3 [00:28<00:00,  9.63s/it, dice=0.566, loss=0.633]\n",
      "[2019-11-18 21:15:05,350] \n",
      "16/30 * Epoch 16 (train): _base/lr=3.375e-05 | _base/momentum=0.9000 | _timers/_fps=513.3586 | _timers/batch_time=1.3261 | _timers/data_time=1.0260 | _timers/model_time=0.2999 | dice=0.5840 | loss=0.6705\n",
      "16/30 * Epoch 16 (valid): _base/lr=3.375e-05 | _base/momentum=0.9000 | _timers/_fps=218.3472 | _timers/batch_time=9.1864 | _timers/data_time=8.9695 | _timers/model_time=0.2167 | dice=0.5592 | loss=0.7171\n",
      "17/30 * Epoch (train): 100% 41/41 [01:32<00:00,  2.25s/it, dice=0.583, loss=0.666]\n",
      "17/30 * Epoch (valid): 100% 3/3 [00:30<00:00, 10.05s/it, dice=0.566, loss=0.636]\n",
      "[2019-11-18 21:17:23,496] \n",
      "17/30 * Epoch 17 (train): _base/lr=3.375e-05 | _base/momentum=0.9000 | _timers/_fps=513.5308 | _timers/batch_time=1.2972 | _timers/data_time=1.0114 | _timers/model_time=0.2857 | dice=0.5858 | loss=0.6662\n",
      "17/30 * Epoch 17 (valid): _base/lr=3.375e-05 | _base/momentum=0.9000 | _timers/_fps=258.1531 | _timers/batch_time=9.6242 | _timers/data_time=9.4727 | _timers/model_time=0.1513 | dice=0.5599 | loss=0.7187\n",
      "18/30 * Epoch (train): 100% 41/41 [01:35<00:00,  2.33s/it, dice=0.588, loss=0.680]\n",
      "18/30 * Epoch (valid): 100% 3/3 [00:28<00:00,  9.41s/it, dice=0.561, loss=0.648]\n",
      "Early stop at 17 epoch\n",
      "[2019-11-18 21:19:43,516] \n",
      "18/30 * Epoch 18 (train): _base/lr=5.063e-06 | _base/momentum=0.9000 | _timers/_fps=534.8591 | _timers/batch_time=1.3759 | _timers/data_time=1.1363 | _timers/model_time=0.2395 | dice=0.5866 | loss=0.6678\n",
      "18/30 * Epoch 18 (valid): _base/lr=5.063e-06 | _base/momentum=0.9000 | _timers/_fps=255.4616 | _timers/batch_time=8.9735 | _timers/data_time=8.8338 | _timers/model_time=0.1396 | dice=0.5575 | loss=0.7262\n",
      "Top best models:\n",
      "logs/segmentation_FPN_0Fold/checkpoints/train.8.pth\t0.7133\n",
      "Collect GPU cache\n",
      "\n",
      "########## FOLD 1 ##########\n",
      "Train on 5267 Validate on 279\n"
     ]
    },
    {
     "name": "stderr",
     "output_type": "stream",
     "text": [
      "/home/zhangziwei/anaconda3/envs/py36/lib/python3.6/site-packages/albumentations/augmentations/transforms.py:2875: UserWarning:\n",
      "\n",
      "Using lambda is incompatible with multiprocessing. Consider using regular functions or partial().\n",
      "\n"
     ]
    },
    {
     "name": "stdout",
     "output_type": "stream",
     "text": [
      "Let's use 8 GPUs!\n"
     ]
    },
    {
     "data": {
      "application/javascript": [
       "IPython.notebook.save_checkpoint();"
      ],
      "text/plain": [
       "<IPython.core.display.Javascript object>"
      ]
     },
     "metadata": {},
     "output_type": "display_data"
    },
    {
     "data": {
      "application/javascript": [
       "IPython.notebook.save_checkpoint();"
      ],
      "text/plain": [
       "<IPython.core.display.Javascript object>"
      ]
     },
     "metadata": {},
     "output_type": "display_data"
    },
    {
     "data": {
      "application/javascript": [
       "IPython.notebook.save_checkpoint();"
      ],
      "text/plain": [
       "<IPython.core.display.Javascript object>"
      ]
     },
     "metadata": {},
     "output_type": "display_data"
    },
    {
     "name": "stdout",
     "output_type": "stream",
     "text": [
      "1/30 * Epoch (train): 100% 41/41 [01:37<00:00,  2.38s/it, dice=0.492, loss=0.835]\n",
      "1/30 * Epoch (valid): 100% 3/3 [00:25<00:00,  8.46s/it, dice=0.485, loss=0.805]\n",
      "[2019-11-18 21:22:27,318] \n",
      "1/30 * Epoch 1 (train): _base/lr=0.0010 | _base/momentum=0.9000 | _timers/_fps=533.7822 | _timers/batch_time=1.4163 | _timers/data_time=1.1369 | _timers/model_time=0.2793 | dice=0.3703 | loss=1.0990\n",
      "1/30 * Epoch 1 (valid): _base/lr=0.0010 | _base/momentum=0.9000 | _timers/_fps=305.6825 | _timers/batch_time=8.0287 | _timers/data_time=7.8854 | _timers/model_time=0.1431 | dice=0.4961 | loss=0.8621\n",
      "2/30 * Epoch (train): 100% 41/41 [01:34<00:00,  2.31s/it, dice=0.515, loss=0.807]\n",
      "2/30 * Epoch (valid): 100% 3/3 [00:29<00:00,  9.75s/it, dice=0.572, loss=0.636]\n",
      "[2019-11-18 21:24:57,694] \n",
      "2/30 * Epoch 2 (train): _base/lr=0.0100 | _base/momentum=0.9000 | _timers/_fps=533.8383 | _timers/batch_time=1.3517 | _timers/data_time=1.0956 | _timers/model_time=0.2559 | dice=0.5013 | loss=0.8124\n",
      "2/30 * Epoch 2 (valid): _base/lr=0.0100 | _base/momentum=0.9000 | _timers/_fps=301.0723 | _timers/batch_time=9.3220 | _timers/data_time=9.1816 | _timers/model_time=0.1401 | dice=0.5455 | loss=0.7597\n",
      "3/30 * Epoch (train): 100% 41/41 [01:34<00:00,  2.30s/it, dice=0.514, loss=0.773]\n",
      "3/30 * Epoch (valid): 100% 3/3 [00:29<00:00,  9.75s/it, dice=0.583, loss=0.617]\n",
      "[2019-11-18 21:27:27,456] \n",
      "3/30 * Epoch 3 (train): _base/lr=0.0100 | _base/momentum=0.9000 | _timers/_fps=496.7036 | _timers/batch_time=1.3369 | _timers/data_time=1.0472 | _timers/model_time=0.2897 | dice=0.5143 | loss=0.7886\n",
      "3/30 * Epoch 3 (valid): _base/lr=0.0100 | _base/momentum=0.9000 | _timers/_fps=282.7405 | _timers/batch_time=9.3100 | _timers/data_time=9.1672 | _timers/model_time=0.1425 | dice=0.5546 | loss=0.7375\n",
      "4/30 * Epoch (train): 100% 41/41 [01:34<00:00,  2.30s/it, dice=0.549, loss=0.754]\n",
      "4/30 * Epoch (valid): 100% 3/3 [00:25<00:00,  8.48s/it, dice=0.553, loss=0.679]\n",
      "[2019-11-18 21:29:43,667] \n",
      "4/30 * Epoch 4 (train): _base/lr=0.0100 | _base/momentum=0.9000 | _timers/_fps=521.6783 | _timers/batch_time=1.3257 | _timers/data_time=1.0712 | _timers/model_time=0.2544 | dice=0.5218 | loss=0.7740\n",
      "4/30 * Epoch 4 (valid): _base/lr=0.0100 | _base/momentum=0.9000 | _timers/_fps=302.3384 | _timers/batch_time=8.0490 | _timers/data_time=7.9144 | _timers/model_time=0.1344 | dice=0.5563 | loss=0.7393\n",
      "5/30 * Epoch (train): 100% 41/41 [01:35<00:00,  2.32s/it, dice=0.490, loss=0.817]\n",
      "5/30 * Epoch (valid): 100% 3/3 [00:28<00:00,  9.44s/it, dice=0.450, loss=0.885]\n",
      "[2019-11-18 21:32:00,955] \n",
      "5/30 * Epoch 5 (train): _base/lr=0.0100 | _base/momentum=0.9000 | _timers/_fps=536.0916 | _timers/batch_time=1.3574 | _timers/data_time=1.1192 | _timers/model_time=0.2380 | dice=0.5264 | loss=0.7682\n",
      "5/30 * Epoch 5 (valid): _base/lr=0.0100 | _base/momentum=0.9000 | _timers/_fps=283.5818 | _timers/batch_time=8.9970 | _timers/data_time=8.8522 | _timers/model_time=0.1446 | dice=0.4966 | loss=0.8680\n",
      "6/30 * Epoch (train): 100% 41/41 [01:33<00:00,  2.27s/it, dice=0.549, loss=0.746]\n",
      "6/30 * Epoch (valid): 100% 3/3 [00:26<00:00,  8.76s/it, dice=0.543, loss=0.692]\n",
      "[2019-11-18 21:34:26,646] \n",
      "6/30 * Epoch 6 (train): _base/lr=0.0100 | _base/momentum=0.9000 | _timers/_fps=523.0860 | _timers/batch_time=1.3189 | _timers/data_time=1.0352 | _timers/model_time=0.2836 | dice=0.5305 | loss=0.7591\n",
      "6/30 * Epoch 6 (valid): _base/lr=0.0100 | _base/momentum=0.9000 | _timers/_fps=285.0226 | _timers/batch_time=8.3167 | _timers/data_time=8.1740 | _timers/model_time=0.1425 | dice=0.5573 | loss=0.7344\n",
      "7/30 * Epoch (train): 100% 41/41 [01:31<00:00,  2.23s/it, dice=0.543, loss=0.740]\n",
      "7/30 * Epoch (valid): 100% 3/3 [00:30<00:00, 10.07s/it, dice=0.571, loss=0.633]\n",
      "[2019-11-18 21:36:55,569] \n",
      "7/30 * Epoch 7 (train): _base/lr=0.0100 | _base/momentum=0.9000 | _timers/_fps=507.4117 | _timers/batch_time=1.2388 | _timers/data_time=0.9259 | _timers/model_time=0.3128 | dice=0.5354 | loss=0.7494\n",
      "7/30 * Epoch 7 (valid): _base/lr=0.0100 | _base/momentum=0.9000 | _timers/_fps=244.8952 | _timers/batch_time=9.6528 | _timers/data_time=9.4295 | _timers/model_time=0.2230 | dice=0.5626 | loss=0.7199\n",
      "8/30 * Epoch (train): 100% 41/41 [01:33<00:00,  2.29s/it, dice=0.524, loss=0.763]\n",
      "8/30 * Epoch (valid): 100% 3/3 [00:27<00:00,  9.32s/it, dice=0.534, loss=0.682]\n",
      "[2019-11-18 21:39:08,737] \n",
      "8/30 * Epoch 8 (train): _base/lr=0.0100 | _base/momentum=0.9000 | _timers/_fps=527.8412 | _timers/batch_time=1.3314 | _timers/data_time=1.0586 | _timers/model_time=0.2727 | dice=0.5366 | loss=0.7484\n",
      "8/30 * Epoch 8 (valid): _base/lr=0.0100 | _base/momentum=0.9000 | _timers/_fps=283.5491 | _timers/batch_time=8.8855 | _timers/data_time=8.7399 | _timers/model_time=0.1453 | dice=0.5435 | loss=0.7366\n",
      "9/30 * Epoch (train): 100% 41/41 [01:33<00:00,  2.29s/it, dice=0.559, loss=0.735]\n",
      "9/30 * Epoch (valid): 100% 3/3 [00:28<00:00,  9.55s/it, dice=0.576, loss=0.613]\n",
      "[2019-11-18 21:41:39,036] \n",
      "9/30 * Epoch 9 (train): _base/lr=0.0100 | _base/momentum=0.9000 | _timers/_fps=514.0581 | _timers/batch_time=1.3218 | _timers/data_time=1.0370 | _timers/model_time=0.2847 | dice=0.5431 | loss=0.7363\n",
      "9/30 * Epoch 9 (valid): _base/lr=0.0100 | _base/momentum=0.9000 | _timers/_fps=283.4498 | _timers/batch_time=9.1277 | _timers/data_time=8.9824 | _timers/model_time=0.1451 | dice=0.5557 | loss=0.7182\n",
      "10/30 * Epoch (train): 100% 41/41 [01:36<00:00,  2.34s/it, dice=0.553, loss=0.733]\n",
      "10/30 * Epoch (valid): 100% 3/3 [00:26<00:00,  8.86s/it, dice=0.580, loss=0.624]\n",
      "[2019-11-18 21:44:12,359] \n",
      "10/30 * Epoch 10 (train): _base/lr=0.0100 | _base/momentum=0.9000 | _timers/_fps=530.2885 | _timers/batch_time=1.3820 | _timers/data_time=1.1367 | _timers/model_time=0.2452 | dice=0.5473 | loss=0.7293\n",
      "10/30 * Epoch 10 (valid): _base/lr=0.0100 | _base/momentum=0.9000 | _timers/_fps=285.8678 | _timers/batch_time=8.4334 | _timers/data_time=8.2890 | _timers/model_time=0.1442 | dice=0.5742 | loss=0.7059\n",
      "11/30 * Epoch (train): 100% 41/41 [01:34<00:00,  2.30s/it, dice=0.557, loss=0.709]\n",
      "11/30 * Epoch (valid): 100% 3/3 [00:28<00:00,  9.36s/it, dice=0.549, loss=0.665]\n",
      "[2019-11-18 21:46:32,393] \n",
      "11/30 * Epoch 11 (train): _base/lr=0.0100 | _base/momentum=0.9000 | _timers/_fps=496.2112 | _timers/batch_time=1.3307 | _timers/data_time=1.0282 | _timers/model_time=0.3024 | dice=0.5483 | loss=0.7278\n",
      "11/30 * Epoch 11 (valid): _base/lr=0.0100 | _base/momentum=0.9000 | _timers/_fps=301.4946 | _timers/batch_time=8.9131 | _timers/data_time=8.7770 | _timers/model_time=0.1359 | dice=0.5550 | loss=0.7276\n",
      "12/30 * Epoch (train): 100% 41/41 [01:32<00:00,  2.26s/it, dice=0.559, loss=0.704]\n",
      "12/30 * Epoch (valid): 100% 3/3 [00:24<00:00,  8.24s/it, dice=0.535, loss=0.681]\n",
      "[2019-11-18 21:48:49,207] \n",
      "12/30 * Epoch 12 (train): _base/lr=0.0100 | _base/momentum=0.9000 | _timers/_fps=508.1953 | _timers/batch_time=1.2703 | _timers/data_time=0.9772 | _timers/model_time=0.2930 | dice=0.5519 | loss=0.7233\n",
      "12/30 * Epoch 12 (valid): _base/lr=0.0100 | _base/momentum=0.9000 | _timers/_fps=230.6826 | _timers/batch_time=7.8170 | _timers/data_time=7.6034 | _timers/model_time=0.2134 | dice=0.5142 | loss=0.7944\n",
      "13/30 * Epoch (train): 100% 41/41 [01:34<00:00,  2.30s/it, dice=0.549, loss=0.734]\n",
      "13/30 * Epoch (valid): 100% 3/3 [00:27<00:00,  9.29s/it, dice=0.507, loss=0.765]\n",
      "[2019-11-18 21:51:12,277] \n",
      "13/30 * Epoch 13 (train): _base/lr=0.0100 | _base/momentum=0.9000 | _timers/_fps=530.1977 | _timers/batch_time=1.3382 | _timers/data_time=1.0749 | _timers/model_time=0.2632 | dice=0.5512 | loss=0.7260\n",
      "13/30 * Epoch 13 (valid): _base/lr=0.0100 | _base/momentum=0.9000 | _timers/_fps=273.4429 | _timers/batch_time=8.8564 | _timers/data_time=8.7165 | _timers/model_time=0.1397 | dice=0.5087 | loss=0.8442\n",
      "14/30 * Epoch (train): 100% 41/41 [01:32<00:00,  2.25s/it, dice=0.573, loss=0.678]\n",
      "14/30 * Epoch (valid): 100% 3/3 [00:29<00:00,  9.78s/it, dice=0.594, loss=0.594]\n",
      "[2019-11-18 21:53:48,324] \n",
      "14/30 * Epoch 14 (train): _base/lr=0.0015 | _base/momentum=0.9000 | _timers/_fps=504.3072 | _timers/batch_time=1.2457 | _timers/data_time=0.9608 | _timers/model_time=0.2848 | dice=0.5709 | loss=0.6895\n",
      "14/30 * Epoch 14 (valid): _base/lr=0.0015 | _base/momentum=0.9000 | _timers/_fps=272.1987 | _timers/batch_time=9.3393 | _timers/data_time=9.1896 | _timers/model_time=0.1495 | dice=0.5792 | loss=0.6894\n"
     ]
    },
    {
     "name": "stdout",
     "output_type": "stream",
     "text": [
      "15/30 * Epoch (train): 100% 41/41 [01:32<00:00,  2.26s/it, dice=0.598, loss=0.643]\n",
      "15/30 * Epoch (valid): 100% 3/3 [00:25<00:00,  8.55s/it, dice=0.591, loss=0.603]\n",
      "[2019-11-18 21:56:11,905] \n",
      "15/30 * Epoch 15 (train): _base/lr=0.0015 | _base/momentum=0.9000 | _timers/_fps=523.3195 | _timers/batch_time=1.2797 | _timers/data_time=1.0064 | _timers/model_time=0.2732 | dice=0.5812 | loss=0.6735\n",
      "15/30 * Epoch 15 (valid): _base/lr=0.0015 | _base/momentum=0.9000 | _timers/_fps=291.0086 | _timers/batch_time=8.1191 | _timers/data_time=7.9688 | _timers/model_time=0.1501 | dice=0.5817 | loss=0.6875\n",
      "16/30 * Epoch (train): 100% 41/41 [01:35<00:00,  2.32s/it, dice=0.580, loss=0.678]\n",
      "16/30 * Epoch (valid): 100% 3/3 [00:25<00:00,  8.55s/it, dice=0.597, loss=0.592]\n",
      "[2019-11-18 21:58:45,016] \n",
      "16/30 * Epoch 16 (train): _base/lr=0.0015 | _base/momentum=0.9000 | _timers/_fps=493.6854 | _timers/batch_time=1.3535 | _timers/data_time=1.0663 | _timers/model_time=0.2870 | dice=0.5890 | loss=0.6610\n",
      "16/30 * Epoch 16 (valid): _base/lr=0.0015 | _base/momentum=0.9000 | _timers/_fps=245.3859 | _timers/batch_time=8.1177 | _timers/data_time=7.9629 | _timers/model_time=0.1545 | dice=0.5853 | loss=0.6841\n",
      "17/30 * Epoch (train): 100% 41/41 [01:33<00:00,  2.27s/it, dice=0.590, loss=0.646]\n",
      "17/30 * Epoch (valid): 100% 3/3 [00:27<00:00,  9.30s/it, dice=0.583, loss=0.623]\n",
      "[2019-11-18 22:01:00,348] \n",
      "17/30 * Epoch 17 (train): _base/lr=0.0015 | _base/momentum=0.9000 | _timers/_fps=519.2151 | _timers/batch_time=1.3088 | _timers/data_time=1.0089 | _timers/model_time=0.2997 | dice=0.5923 | loss=0.6565\n",
      "17/30 * Epoch 17 (valid): _base/lr=0.0015 | _base/momentum=0.9000 | _timers/_fps=251.2741 | _timers/batch_time=8.8913 | _timers/data_time=8.7386 | _timers/model_time=0.1525 | dice=0.5828 | loss=0.6967\n",
      "18/30 * Epoch (train): 100% 41/41 [01:35<00:00,  2.33s/it, dice=0.600, loss=0.655]\n",
      "18/30 * Epoch (valid): 100% 3/3 [00:27<00:00,  9.07s/it, dice=0.595, loss=0.606]\n",
      "[2019-11-18 22:03:17,452] \n",
      "18/30 * Epoch 18 (train): _base/lr=0.0015 | _base/momentum=0.9000 | _timers/_fps=526.0170 | _timers/batch_time=1.3850 | _timers/data_time=1.1160 | _timers/model_time=0.2689 | dice=0.5980 | loss=0.6505\n",
      "18/30 * Epoch 18 (valid): _base/lr=0.0015 | _base/momentum=0.9000 | _timers/_fps=255.0318 | _timers/batch_time=8.6334 | _timers/data_time=8.4802 | _timers/model_time=0.1530 | dice=0.5802 | loss=0.6988\n",
      "19/30 * Epoch (train): 100% 41/41 [01:30<00:00,  2.22s/it, dice=0.585, loss=0.671]\n",
      "19/30 * Epoch (valid): 100% 3/3 [00:26<00:00,  8.68s/it, dice=0.589, loss=0.616]\n",
      "[2019-11-18 22:05:31,151] \n",
      "19/30 * Epoch 19 (train): _base/lr=0.0015 | _base/momentum=0.9000 | _timers/_fps=498.6603 | _timers/batch_time=1.2535 | _timers/data_time=0.9404 | _timers/model_time=0.3130 | dice=0.6030 | loss=0.6422\n",
      "19/30 * Epoch 19 (valid): _base/lr=0.0015 | _base/momentum=0.9000 | _timers/_fps=244.9606 | _timers/batch_time=8.2493 | _timers/data_time=8.0278 | _timers/model_time=0.2212 | dice=0.5826 | loss=0.6990\n",
      "20/30 * Epoch (train): 100% 41/41 [01:34<00:00,  2.31s/it, dice=0.607, loss=0.643]\n",
      "20/30 * Epoch (valid): 100% 3/3 [00:29<00:00,  9.69s/it, dice=0.590, loss=0.612]\n",
      "[2019-11-18 22:07:50,111] \n",
      "20/30 * Epoch 20 (train): _base/lr=0.0002 | _base/momentum=0.9000 | _timers/_fps=530.0562 | _timers/batch_time=1.3574 | _timers/data_time=1.1035 | _timers/model_time=0.2538 | dice=0.6076 | loss=0.6308\n",
      "20/30 * Epoch 20 (valid): _base/lr=0.0002 | _base/momentum=0.9000 | _timers/_fps=234.3912 | _timers/batch_time=9.2353 | _timers/data_time=9.0790 | _timers/model_time=0.1561 | dice=0.5848 | loss=0.6931\n",
      "21/30 * Epoch (train): 100% 41/41 [01:34<00:00,  2.31s/it, dice=0.616, loss=0.624]\n",
      "21/30 * Epoch (valid): 100% 3/3 [00:25<00:00,  8.49s/it, dice=0.594, loss=0.605]\n",
      "[2019-11-18 22:10:08,743] \n",
      "21/30 * Epoch 21 (train): _base/lr=0.0002 | _base/momentum=0.9000 | _timers/_fps=512.4443 | _timers/batch_time=1.3332 | _timers/data_time=1.0335 | _timers/model_time=0.2996 | dice=0.6146 | loss=0.6225\n",
      "21/30 * Epoch 21 (valid): _base/lr=0.0002 | _base/momentum=0.9000 | _timers/_fps=286.7264 | _timers/batch_time=8.0562 | _timers/data_time=7.9170 | _timers/model_time=0.1389 | dice=0.5865 | loss=0.6934\n",
      "22/30 * Epoch (train):  29% 12/41 [00:57<00:58,  2.03s/it, dice=0.615, loss=0.632]"
     ]
    }
   ],
   "source": [
    "pipeline(net=\"FPN\",rsize=320, KFold=3, batch_size=8*16, test_set=sub)"
   ]
  },
  {
   "cell_type": "code",
   "execution_count": null,
   "metadata": {},
   "outputs": [],
   "source": []
  },
  {
   "cell_type": "code",
   "execution_count": null,
   "metadata": {},
   "outputs": [],
   "source": []
  },
  {
   "cell_type": "code",
   "execution_count": null,
   "metadata": {},
   "outputs": [],
   "source": []
  }
 ],
 "metadata": {
  "kernelspec": {
   "display_name": "Python 3",
   "language": "python",
   "name": "python3"
  },
  "language_info": {
   "codemirror_mode": {
    "name": "ipython",
    "version": 3
   },
   "file_extension": ".py",
   "mimetype": "text/x-python",
   "name": "python",
   "nbconvert_exporter": "python",
   "pygments_lexer": "ipython3",
   "version": "3.6.8"
  }
 },
 "nbformat": 4,
 "nbformat_minor": 1
}
