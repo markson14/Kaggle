{
 "cells": [
  {
   "cell_type": "code",
   "execution_count": 22,
   "metadata": {
    "ExecuteTime": {
     "end_time": "2019-11-05T10:39:28.452766Z",
     "start_time": "2019-11-05T10:39:28.450047Z"
    }
   },
   "outputs": [],
   "source": [
    "import pandas as pd\n",
    "from tqdm import tqdm_notebook\n",
    "import numpy as np\n",
    "import cv2\n",
    "import matplotlib.pyplot as plt\n",
    "import os\n",
    "from dataset import sigmoid"
   ]
  },
  {
   "cell_type": "code",
   "execution_count": 23,
   "metadata": {
    "ExecuteTime": {
     "end_time": "2019-11-05T10:39:29.077398Z",
     "start_time": "2019-11-05T10:39:29.070655Z"
    }
   },
   "outputs": [],
   "source": [
    "def post_process(probability, threshold, min_size):\n",
    "    \"\"\"\n",
    "    Post processing of each predicted mask, components with lesser number of pixels\n",
    "    than `min_size` are ignored\n",
    "    \"\"\"\n",
    "    # don't remember where I saw it\n",
    "    mask = cv2.threshold(probability, threshold, 1, cv2.THRESH_BINARY)[1]\n",
    "    num_component, component = cv2.connectedComponents(mask.astype(np.uint8))\n",
    "    predictions = np.zeros((350, 525), np.float32)\n",
    "    num = 0\n",
    "    for c in range(1, num_component):\n",
    "        p = (component == c)\n",
    "        if p.sum() > min_size:\n",
    "            predictions[p] = 1\n",
    "            num += 1\n",
    "    return predictions, num\n",
    "\n",
    "def rle_decode(mask_rle: str = '', shape: tuple = (350, 525)):\n",
    "    '''\n",
    "    Decode rle encoded mask.\n",
    "    \n",
    "    :param mask_rle: run-length as string formatted (start length)\n",
    "    :param shape: (height, width) of array to return \n",
    "    Returns numpy array, 1 - mask, 0 - background\n",
    "    '''\n",
    "    s = mask_rle.split()\n",
    "    starts, lengths = [np.asarray(x, dtype=int) for x in (s[0:][::2], s[1:][::2])]\n",
    "    starts -= 1\n",
    "    ends = starts + lengths\n",
    "    img = np.zeros(shape[0] * shape[1], dtype=np.uint8)\n",
    "    for lo, hi in zip(starts, ends):\n",
    "        img[lo:hi] = 1\n",
    "    return img.reshape(shape, order='F')\n",
    "\n",
    "def mask2rle(img):\n",
    "    '''\n",
    "    Convert mask to rle.\n",
    "    img: numpy array, 1 - mask, 0 - background\n",
    "    Returns run length as string formated\n",
    "    '''\n",
    "    pixels= img.T.flatten()\n",
    "    pixels = np.concatenate([[0], pixels, [0]])\n",
    "    runs = np.where(pixels[1:] != pixels[:-1])[0] + 1\n",
    "    runs[1::2] -= runs[::2]\n",
    "    return ' '.join(str(x) for x in runs)\n",
    "def dice(img1, img2):\n",
    "    img1 = np.asarray(img1).astype(np.bool)\n",
    "    img2 = np.asarray(img2).astype(np.bool)\n",
    "\n",
    "    intersection = np.logical_and(img1, img2)\n",
    "\n",
    "    return 2. * intersection.sum() / (img1.sum() + img2.sum())\n",
    "\n",
    "def check_null(sub):\n",
    "    count = 0\n",
    "    name_list = []\n",
    "    null_list = []\n",
    "    mask_list = 0\n",
    "    total_null = 0\n",
    "    for i in tqdm_notebook(range(len(sub))):\n",
    "        name, mask = sub.iloc[i]\n",
    "        name = name.split('_')[0]\n",
    "        if name not in name_list:\n",
    "            if not mask_list:\n",
    "                total_null += 1\n",
    "                null_list.append(sub.iloc[i-1][0].split('_')[0])\n",
    "            mask_list = 0\n",
    "            name_list.append(name)\n",
    "            \n",
    "        if mask:\n",
    "            mask_list += 1\n",
    "        \n",
    "    return total_null, null_list\n",
    "\n",
    "def refine(null_list, original_out, encoded, threshold, msize):\n",
    "    resign = []\n",
    "    for i in tqdm_notebook(range(len(dummy_df))):\n",
    "        if dummy_df.iloc[i].iat[0].split('_')[0] in null_list:\n",
    "            predict, num_predict = post_process(original_out[i], threshold, msize)\n",
    "            if num_predict == 0:\n",
    "                resign.append('')\n",
    "            else:\n",
    "                resign.append(mask2rle(predict))\n",
    "        else:\n",
    "            resign.append('')\n",
    "    # merge\n",
    "    final_out = []\n",
    "    for i in range(len(original_out)):\n",
    "        if encoded[i] != '':\n",
    "            final_out.append(encoded[i])\n",
    "        elif resign[i] != '':\n",
    "            final_out.append(resign[i])\n",
    "        else:\n",
    "            final_out.append('')\n",
    "    checkc = pd.read_csv('./sample_submission.csv')\n",
    "    checkc['EncodedPixels'] = final_out\n",
    "    # sub.to_csv('ALL_post_ensemble_msize5000.csv', columns=['Image_Label', 'EncodedPixels'], index=False)\n",
    "    num,new_list = check_null(checkc)\n",
    "    print(num)\n",
    "    return final_out, new_list"
   ]
  },
  {
   "cell_type": "code",
   "execution_count": 24,
   "metadata": {
    "ExecuteTime": {
     "end_time": "2019-11-05T10:39:30.418499Z",
     "start_time": "2019-11-05T10:39:29.672989Z"
    }
   },
   "outputs": [
    {
     "name": "stdout",
     "output_type": "stream",
     "text": [
      "loading:  UNetresnet34_best_x1mask.csv\n",
      "loading:  Uneteffib2_640.csv\n",
      "loading:  sub_effib2.csv\n",
      "loading:  Unetresnet34_last_640.csv\n",
      "loading:  Uneteffib2_256.csv\n",
      "loading:  FPNeffib2_384.csv\n",
      "loading:  FPNresnet34_best_384.csv\n",
      "loading:  FPNeffib2_640.csv\n",
      "loading:  UNetresnet34_last_x2mask.csv\n",
      "loading:  PSPNetresnet34_640.csv\n",
      "loading:  UNetresnet34_best_x2mask.csv\n",
      "loading:  UNetresnet34_last_x1mask.csv\n",
      "loading:  Unetresnet34_best_640.csv\n",
      "loading:  FPNresnet34_best_320.csv\n",
      "loading:  FPNeffib2_256.csv\n",
      "loading:  PSPNetresnet34_384.csv\n",
      "loading:  PSPNetresnet34_256.csv\n",
      "loading:  FPNresnet34_last_640.csv\n",
      "loading:  Uneteffib2_384.csv\n",
      "loading:  FPNresnet34_best_640.csv\n",
      "loading:  FPNeffib2_320.csv\n",
      "loading:  FPNresnet34_last_384.csv\n",
      "loading:  FPNeffib2_64.csv\n",
      "loading:  FPNresnet34_last_320.csv\n"
     ]
    }
   ],
   "source": [
    "path = \"./csv\"\n",
    "dummy_df = pd.read_csv(f\"{path}/sub_effib2.csv\")\n",
    "\n",
    "for i, csv in enumerate(os.listdir(path)):\n",
    "#     if csv.startswith(\"Uneteffi\"):\n",
    "#     if \"effib2_\" in csv:\n",
    "    if csv.endswith(\".csv\"):\n",
    "        print(\"loading: \",csv)\n",
    "        df = pd.read_csv(f\"{path}/\"+csv)\n",
    "        df = df.rename(columns={\"EncodedPixels\":i})\n",
    "        dummy_df = pd.merge(dummy_df,df,on=['Image_Label'])\n",
    "if 1:\n",
    "    dummy_df = dummy_df.drop(dummy_df.columns[1],axis=1)"
   ]
  },
  {
   "cell_type": "code",
   "execution_count": 25,
   "metadata": {},
   "outputs": [
    {
     "data": {
      "text/html": [
       "<div>\n",
       "<style scoped>\n",
       "    .dataframe tbody tr th:only-of-type {\n",
       "        vertical-align: middle;\n",
       "    }\n",
       "\n",
       "    .dataframe tbody tr th {\n",
       "        vertical-align: top;\n",
       "    }\n",
       "\n",
       "    .dataframe thead th {\n",
       "        text-align: right;\n",
       "    }\n",
       "</style>\n",
       "<table border=\"1\" class=\"dataframe\">\n",
       "  <thead>\n",
       "    <tr style=\"text-align: right;\">\n",
       "      <th></th>\n",
       "      <th>Image_Label</th>\n",
       "      <th>0</th>\n",
       "      <th>EncodedPixels_best_x</th>\n",
       "      <th>EncodedPixels_last_x</th>\n",
       "      <th>2</th>\n",
       "      <th>3</th>\n",
       "      <th>EncodedPixels_best_y</th>\n",
       "      <th>EncodedPixels_last_y</th>\n",
       "      <th>EncodedPixels_best_x</th>\n",
       "      <th>EncodedPixels_last_x</th>\n",
       "      <th>...</th>\n",
       "      <th>17</th>\n",
       "      <th>EncodedPixels_best_x</th>\n",
       "      <th>EncodedPixels_last_x</th>\n",
       "      <th>19</th>\n",
       "      <th>EncodedPixels_best_y</th>\n",
       "      <th>EncodedPixels_last_y</th>\n",
       "      <th>21</th>\n",
       "      <th>EncodedPixels_best</th>\n",
       "      <th>EncodedPixels_last</th>\n",
       "      <th>23</th>\n",
       "    </tr>\n",
       "  </thead>\n",
       "  <tbody>\n",
       "    <tr>\n",
       "      <th>0</th>\n",
       "      <td>002f507.jpg_Fish</td>\n",
       "      <td>NaN</td>\n",
       "      <td>NaN</td>\n",
       "      <td>NaN</td>\n",
       "      <td>NaN</td>\n",
       "      <td>NaN</td>\n",
       "      <td>NaN</td>\n",
       "      <td>NaN</td>\n",
       "      <td>NaN</td>\n",
       "      <td>NaN</td>\n",
       "      <td>...</td>\n",
       "      <td>NaN</td>\n",
       "      <td>NaN</td>\n",
       "      <td>NaN</td>\n",
       "      <td>NaN</td>\n",
       "      <td>NaN</td>\n",
       "      <td>NaN</td>\n",
       "      <td>NaN</td>\n",
       "      <td>NaN</td>\n",
       "      <td>NaN</td>\n",
       "      <td>NaN</td>\n",
       "    </tr>\n",
       "    <tr>\n",
       "      <th>1</th>\n",
       "      <td>002f507.jpg_Flower</td>\n",
       "      <td>NaN</td>\n",
       "      <td>NaN</td>\n",
       "      <td>NaN</td>\n",
       "      <td>NaN</td>\n",
       "      <td>NaN</td>\n",
       "      <td>NaN</td>\n",
       "      <td>NaN</td>\n",
       "      <td>NaN</td>\n",
       "      <td>NaN</td>\n",
       "      <td>...</td>\n",
       "      <td>NaN</td>\n",
       "      <td>NaN</td>\n",
       "      <td>NaN</td>\n",
       "      <td>NaN</td>\n",
       "      <td>NaN</td>\n",
       "      <td>NaN</td>\n",
       "      <td>NaN</td>\n",
       "      <td>NaN</td>\n",
       "      <td>NaN</td>\n",
       "      <td>NaN</td>\n",
       "    </tr>\n",
       "    <tr>\n",
       "      <th>2</th>\n",
       "      <td>002f507.jpg_Gravel</td>\n",
       "      <td>23 3 83 13 97 3 101 7 115 41 159 2 162 3 168 4...</td>\n",
       "      <td>11 226 240 40 282 9 295 3 303 18 356 338 705 3...</td>\n",
       "      <td>8 319 355 339 704 342 1053 344 1402 346 1752 3...</td>\n",
       "      <td>5 337 353 343 702 346 1052 347 1401 348 1751 3...</td>\n",
       "      <td>65 7 104 4 115 2 140 1 146 5 354 330 703 335 1...</td>\n",
       "      <td>95 2 98 42 160 1 164 17 360 300 706 326 1054 3...</td>\n",
       "      <td>363 234 606 48 706 321 1054 333 1404 336 1753 ...</td>\n",
       "      <td>6 325 355 329 704 334 1053 337 1402 340 1751 3...</td>\n",
       "      <td>7 323 356 330 704 336 1053 340 1402 342 1751 3...</td>\n",
       "      <td>...</td>\n",
       "      <td>7 320 355 324 703 329 1053 332 1402 337 1752 3...</td>\n",
       "      <td>9 230 243 4 256 54 353 340 702 343 1052 345 14...</td>\n",
       "      <td>7 310 322 3 352 340 702 343 1052 345 1402 346 ...</td>\n",
       "      <td>10 317 358 321 706 325 1055 329 1404 333 1753 ...</td>\n",
       "      <td>10 312 359 323 708 326 1057 329 1406 332 1755 ...</td>\n",
       "      <td>4 311 353 322 702 327 1052 332 1401 336 1751 3...</td>\n",
       "      <td>3 236 244 82 353 326 702 330 1051 335 1401 338...</td>\n",
       "      <td>1 59846 59851 345 60201 344 60551 342 60901 34...</td>\n",
       "      <td>1 59496 59501 346 59851 345 60201 344 60551 34...</td>\n",
       "      <td>6 319 355 325 704 329 1053 332 1402 335 1752 3...</td>\n",
       "    </tr>\n",
       "    <tr>\n",
       "      <th>3</th>\n",
       "      <td>002f507.jpg_Sugar</td>\n",
       "      <td>NaN</td>\n",
       "      <td>NaN</td>\n",
       "      <td>NaN</td>\n",
       "      <td>NaN</td>\n",
       "      <td>NaN</td>\n",
       "      <td>NaN</td>\n",
       "      <td>NaN</td>\n",
       "      <td>NaN</td>\n",
       "      <td>NaN</td>\n",
       "      <td>...</td>\n",
       "      <td>NaN</td>\n",
       "      <td>NaN</td>\n",
       "      <td>NaN</td>\n",
       "      <td>NaN</td>\n",
       "      <td>NaN</td>\n",
       "      <td>NaN</td>\n",
       "      <td>NaN</td>\n",
       "      <td>NaN</td>\n",
       "      <td>1238 5 1583 24 1930 32 2277 37 2624 42 2971 47...</td>\n",
       "      <td>NaN</td>\n",
       "    </tr>\n",
       "    <tr>\n",
       "      <th>4</th>\n",
       "      <td>0035ae9.jpg_Fish</td>\n",
       "      <td>NaN</td>\n",
       "      <td>NaN</td>\n",
       "      <td>NaN</td>\n",
       "      <td>NaN</td>\n",
       "      <td>NaN</td>\n",
       "      <td>61389 3 61737 7 62085 18 62431 30 62780 34 631...</td>\n",
       "      <td>53309 4 53642 24 53990 28 54339 31 54687 34 55...</td>\n",
       "      <td>62441 2 62782 3 62790 5 63128 19 63473 26 6382...</td>\n",
       "      <td>104771 3 105118 10 105467 17 105815 36 106165 ...</td>\n",
       "      <td>...</td>\n",
       "      <td>NaN</td>\n",
       "      <td>NaN</td>\n",
       "      <td>NaN</td>\n",
       "      <td>NaN</td>\n",
       "      <td>95702 10 96050 15 96072 2 96399 26 96748 28 97...</td>\n",
       "      <td>NaN</td>\n",
       "      <td>NaN</td>\n",
       "      <td>45222 5 45569 10 45918 13 46266 17 46615 20 46...</td>\n",
       "      <td>NaN</td>\n",
       "      <td>NaN</td>\n",
       "    </tr>\n",
       "  </tbody>\n",
       "</table>\n",
       "<p>5 rows × 36 columns</p>\n",
       "</div>"
      ],
      "text/plain": [
       "          Image_Label                                                  0  \\\n",
       "0    002f507.jpg_Fish                                                NaN   \n",
       "1  002f507.jpg_Flower                                                NaN   \n",
       "2  002f507.jpg_Gravel  23 3 83 13 97 3 101 7 115 41 159 2 162 3 168 4...   \n",
       "3   002f507.jpg_Sugar                                                NaN   \n",
       "4    0035ae9.jpg_Fish                                                NaN   \n",
       "\n",
       "                                EncodedPixels_best_x  \\\n",
       "0                                                NaN   \n",
       "1                                                NaN   \n",
       "2  11 226 240 40 282 9 295 3 303 18 356 338 705 3...   \n",
       "3                                                NaN   \n",
       "4                                                NaN   \n",
       "\n",
       "                                EncodedPixels_last_x  \\\n",
       "0                                                NaN   \n",
       "1                                                NaN   \n",
       "2  8 319 355 339 704 342 1053 344 1402 346 1752 3...   \n",
       "3                                                NaN   \n",
       "4                                                NaN   \n",
       "\n",
       "                                                   2  \\\n",
       "0                                                NaN   \n",
       "1                                                NaN   \n",
       "2  5 337 353 343 702 346 1052 347 1401 348 1751 3...   \n",
       "3                                                NaN   \n",
       "4                                                NaN   \n",
       "\n",
       "                                                   3  \\\n",
       "0                                                NaN   \n",
       "1                                                NaN   \n",
       "2  65 7 104 4 115 2 140 1 146 5 354 330 703 335 1...   \n",
       "3                                                NaN   \n",
       "4                                                NaN   \n",
       "\n",
       "                                EncodedPixels_best_y  \\\n",
       "0                                                NaN   \n",
       "1                                                NaN   \n",
       "2  95 2 98 42 160 1 164 17 360 300 706 326 1054 3...   \n",
       "3                                                NaN   \n",
       "4  61389 3 61737 7 62085 18 62431 30 62780 34 631...   \n",
       "\n",
       "                                EncodedPixels_last_y  \\\n",
       "0                                                NaN   \n",
       "1                                                NaN   \n",
       "2  363 234 606 48 706 321 1054 333 1404 336 1753 ...   \n",
       "3                                                NaN   \n",
       "4  53309 4 53642 24 53990 28 54339 31 54687 34 55...   \n",
       "\n",
       "                                EncodedPixels_best_x  \\\n",
       "0                                                NaN   \n",
       "1                                                NaN   \n",
       "2  6 325 355 329 704 334 1053 337 1402 340 1751 3...   \n",
       "3                                                NaN   \n",
       "4  62441 2 62782 3 62790 5 63128 19 63473 26 6382...   \n",
       "\n",
       "                                EncodedPixels_last_x  ...  \\\n",
       "0                                                NaN  ...   \n",
       "1                                                NaN  ...   \n",
       "2  7 323 356 330 704 336 1053 340 1402 342 1751 3...  ...   \n",
       "3                                                NaN  ...   \n",
       "4  104771 3 105118 10 105467 17 105815 36 106165 ...  ...   \n",
       "\n",
       "                                                  17  \\\n",
       "0                                                NaN   \n",
       "1                                                NaN   \n",
       "2  7 320 355 324 703 329 1053 332 1402 337 1752 3...   \n",
       "3                                                NaN   \n",
       "4                                                NaN   \n",
       "\n",
       "                                EncodedPixels_best_x  \\\n",
       "0                                                NaN   \n",
       "1                                                NaN   \n",
       "2  9 230 243 4 256 54 353 340 702 343 1052 345 14...   \n",
       "3                                                NaN   \n",
       "4                                                NaN   \n",
       "\n",
       "                                EncodedPixels_last_x  \\\n",
       "0                                                NaN   \n",
       "1                                                NaN   \n",
       "2  7 310 322 3 352 340 702 343 1052 345 1402 346 ...   \n",
       "3                                                NaN   \n",
       "4                                                NaN   \n",
       "\n",
       "                                                  19  \\\n",
       "0                                                NaN   \n",
       "1                                                NaN   \n",
       "2  10 317 358 321 706 325 1055 329 1404 333 1753 ...   \n",
       "3                                                NaN   \n",
       "4                                                NaN   \n",
       "\n",
       "                                EncodedPixels_best_y  \\\n",
       "0                                                NaN   \n",
       "1                                                NaN   \n",
       "2  10 312 359 323 708 326 1057 329 1406 332 1755 ...   \n",
       "3                                                NaN   \n",
       "4  95702 10 96050 15 96072 2 96399 26 96748 28 97...   \n",
       "\n",
       "                                EncodedPixels_last_y  \\\n",
       "0                                                NaN   \n",
       "1                                                NaN   \n",
       "2  4 311 353 322 702 327 1052 332 1401 336 1751 3...   \n",
       "3                                                NaN   \n",
       "4                                                NaN   \n",
       "\n",
       "                                                  21  \\\n",
       "0                                                NaN   \n",
       "1                                                NaN   \n",
       "2  3 236 244 82 353 326 702 330 1051 335 1401 338...   \n",
       "3                                                NaN   \n",
       "4                                                NaN   \n",
       "\n",
       "                                  EncodedPixels_best  \\\n",
       "0                                                NaN   \n",
       "1                                                NaN   \n",
       "2  1 59846 59851 345 60201 344 60551 342 60901 34...   \n",
       "3                                                NaN   \n",
       "4  45222 5 45569 10 45918 13 46266 17 46615 20 46...   \n",
       "\n",
       "                                  EncodedPixels_last  \\\n",
       "0                                                NaN   \n",
       "1                                                NaN   \n",
       "2  1 59496 59501 346 59851 345 60201 344 60551 34...   \n",
       "3  1238 5 1583 24 1930 32 2277 37 2624 42 2971 47...   \n",
       "4                                                NaN   \n",
       "\n",
       "                                                  23  \n",
       "0                                                NaN  \n",
       "1                                                NaN  \n",
       "2  6 319 355 325 704 329 1053 332 1402 335 1752 3...  \n",
       "3                                                NaN  \n",
       "4                                                NaN  \n",
       "\n",
       "[5 rows x 36 columns]"
      ]
     },
     "execution_count": 25,
     "metadata": {},
     "output_type": "execute_result"
    }
   ],
   "source": [
    "dummy_df.head()"
   ]
  },
  {
   "cell_type": "code",
   "execution_count": 26,
   "metadata": {
    "ExecuteTime": {
     "end_time": "2019-11-05T10:55:36.270577Z",
     "start_time": "2019-11-05T10:54:59.009693Z"
    },
    "scrolled": true
   },
   "outputs": [
    {
     "name": "stderr",
     "output_type": "stream",
     "text": [
      "/home/zhangziwei/anaconda3/envs/py36/lib/python3.6/site-packages/ipykernel_launcher.py:2: TqdmDeprecationWarning: This function will be removed in tqdm==5.0.0\n",
      "Please use `tqdm.notebook.tqdm` instead of `tqdm.tqdm_notebook`\n",
      "  \n"
     ]
    },
    {
     "data": {
      "application/vnd.jupyter.widget-view+json": {
       "model_id": "358d9ccc701f48b49663568cf43cb46d",
       "version_major": 2,
       "version_minor": 0
      },
      "text/plain": [
       "HBox(children=(IntProgress(value=0, max=14792), HTML(value='')))"
      ]
     },
     "metadata": {},
     "output_type": "display_data"
    },
    {
     "name": "stdout",
     "output_type": "stream",
     "text": [
      "\n"
     ]
    }
   ],
   "source": [
    "output_list = []\n",
    "for i in tqdm_notebook(range(len(dummy_df))):\n",
    "    index = np.where(dummy_df.iloc[i].isnull()==False,1,0)\n",
    "    tol = sum(index) - 1\n",
    "    ave = np.zeros((350, 525))\n",
    "    for j in range(len(index[1:])):\n",
    "        if index[1:][j]:\n",
    "#             ave += rle_decode(dummy_df.iat[i,j+1])\n",
    "            ave += rle_decode(dummy_df.iloc[i].iat[j+1])\n",
    "        else:\n",
    "            continue\n",
    "    ave /= len(index[1:])\n",
    "    output_list.append(ave)"
   ]
  },
  {
   "cell_type": "code",
   "execution_count": 31,
   "metadata": {
    "scrolled": false
   },
   "outputs": [
    {
     "name": "stderr",
     "output_type": "stream",
     "text": [
      "/home/zhangziwei/anaconda3/envs/py36/lib/python3.6/site-packages/ipykernel_launcher.py:2: TqdmDeprecationWarning: This function will be removed in tqdm==5.0.0\n",
      "Please use `tqdm.notebook.tqdm` instead of `tqdm.tqdm_notebook`\n",
      "  \n"
     ]
    },
    {
     "data": {
      "application/vnd.jupyter.widget-view+json": {
       "model_id": "8721373b6f464f10b73545172172ccfe",
       "version_major": 2,
       "version_minor": 0
      },
      "text/plain": [
       "HBox(children=(IntProgress(value=0, max=14792), HTML(value='')))"
      ]
     },
     "metadata": {},
     "output_type": "display_data"
    },
    {
     "name": "stdout",
     "output_type": "stream",
     "text": [
      "\n"
     ]
    },
    {
     "name": "stderr",
     "output_type": "stream",
     "text": [
      "/home/zhangziwei/anaconda3/envs/py36/lib/python3.6/site-packages/ipykernel_launcher.py:60: TqdmDeprecationWarning: This function will be removed in tqdm==5.0.0\n",
      "Please use `tqdm.notebook.tqdm` instead of `tqdm.tqdm_notebook`\n"
     ]
    },
    {
     "data": {
      "application/vnd.jupyter.widget-view+json": {
       "model_id": "ad9f26a2a61a48fabfa87a90865d8429",
       "version_major": 2,
       "version_minor": 0
      },
      "text/plain": [
       "HBox(children=(IntProgress(value=0, max=14792), HTML(value='')))"
      ]
     },
     "metadata": {},
     "output_type": "display_data"
    },
    {
     "name": "stdout",
     "output_type": "stream",
     "text": [
      "\n",
      "159\n"
     ]
    }
   ],
   "source": [
    "encoded = []\n",
    "for i in tqdm_notebook(range(len(output_list))):\n",
    "    predict, num_predict = post_process(output_list[i], 0.65, 15000)\n",
    "    if num_predict == 0:\n",
    "        encoded.append('')\n",
    "    else:\n",
    "        encoded.append(mask2rle(predict))\n",
    "\n",
    "sub = pd.read_csv('./sample_submission.csv')\n",
    "sub['EncodedPixels'] = encoded\n",
    "# sub.to_csv('effi_0.7_14000.csv', columns=['Image_Label', 'EncodedPixels'], index=False)\n",
    "num, list_ = check_null(sub)\n",
    "print(num)"
   ]
  },
  {
   "cell_type": "code",
   "execution_count": 21,
   "metadata": {},
   "outputs": [],
   "source": [
    "sub.to_csv('all_0.65_14000.csv', columns=['Image_Label', 'EncodedPixels'], index=False)"
   ]
  },
  {
   "cell_type": "code",
   "execution_count": 33,
   "metadata": {
    "scrolled": true
   },
   "outputs": [
    {
     "name": "stderr",
     "output_type": "stream",
     "text": [
      "/home/zhangziwei/anaconda3/envs/py36/lib/python3.6/site-packages/ipykernel_launcher.py:77: TqdmDeprecationWarning: This function will be removed in tqdm==5.0.0\n",
      "Please use `tqdm.notebook.tqdm` instead of `tqdm.tqdm_notebook`\n"
     ]
    },
    {
     "data": {
      "application/vnd.jupyter.widget-view+json": {
       "model_id": "0fcd60a17d824c92ba28e72550c89613",
       "version_major": 2,
       "version_minor": 0
      },
      "text/plain": [
       "HBox(children=(IntProgress(value=0, max=14792), HTML(value='')))"
      ]
     },
     "metadata": {},
     "output_type": "display_data"
    },
    {
     "name": "stdout",
     "output_type": "stream",
     "text": [
      "\n"
     ]
    },
    {
     "name": "stderr",
     "output_type": "stream",
     "text": [
      "/home/zhangziwei/anaconda3/envs/py36/lib/python3.6/site-packages/ipykernel_launcher.py:60: TqdmDeprecationWarning: This function will be removed in tqdm==5.0.0\n",
      "Please use `tqdm.notebook.tqdm` instead of `tqdm.tqdm_notebook`\n"
     ]
    },
    {
     "data": {
      "application/vnd.jupyter.widget-view+json": {
       "model_id": "04d9eb6f19354633a71c23329bb45f67",
       "version_major": 2,
       "version_minor": 0
      },
      "text/plain": [
       "HBox(children=(IntProgress(value=0, max=14792), HTML(value='')))"
      ]
     },
     "metadata": {},
     "output_type": "display_data"
    },
    {
     "name": "stdout",
     "output_type": "stream",
     "text": [
      "\n",
      "120\n"
     ]
    }
   ],
   "source": [
    "# reassigned null name\n",
    "out, new_list = refine(list_,output_list,encoded, 0.6,13000)\n",
    "# out, new_list = refine(new_list,output_list,out, 0.35,15000)"
   ]
  },
  {
   "cell_type": "code",
   "execution_count": 35,
   "metadata": {},
   "outputs": [
    {
     "name": "stderr",
     "output_type": "stream",
     "text": [
      "/home/zhangziwei/anaconda3/envs/py36/lib/python3.6/site-packages/ipykernel_launcher.py:60: TqdmDeprecationWarning: This function will be removed in tqdm==5.0.0\n",
      "Please use `tqdm.notebook.tqdm` instead of `tqdm.tqdm_notebook`\n"
     ]
    },
    {
     "data": {
      "application/vnd.jupyter.widget-view+json": {
       "model_id": "1dd0fae844ee4a71bb926e81e4ef1ce0",
       "version_major": 2,
       "version_minor": 0
      },
      "text/plain": [
       "HBox(children=(IntProgress(value=0, max=14792), HTML(value='')))"
      ]
     },
     "metadata": {},
     "output_type": "display_data"
    },
    {
     "name": "stdout",
     "output_type": "stream",
     "text": [
      "\n"
     ]
    },
    {
     "data": {
      "text/plain": [
       "120"
      ]
     },
     "execution_count": 35,
     "metadata": {},
     "output_type": "execute_result"
    }
   ],
   "source": [
    "sub = pd.read_csv('./sample_submission.csv')\n",
    "sub['EncodedPixels'] = out\n",
    "sub.to_csv('alal.csv', columns=['Image_Label', 'EncodedPixels'], index=False)\n",
    "check_null(sub)[0]"
   ]
  },
  {
   "cell_type": "code",
   "execution_count": 10,
   "metadata": {},
   "outputs": [],
   "source": [
    "import matplotlib.pyplot as plt\n",
    "def check_mask(x,y=\"\"):\n",
    "\n",
    "    mask_encoded = final_out[x]\n",
    "    assert mask_encoded != ''\n",
    "    mask2 = rle_decode(mask_encoded)\n",
    "    img = cv2.imread(\"./test_images/\"+sub.iloc[x][0].split('_')[0])\n",
    "    img = cv2.resize(img, dsize=(525, 350), interpolation=cv2.INTER_LINEAR)\n",
    "    \n",
    "    kernel = np.ones((5,5), np.uint8) \n",
    "#     mask1 = cv2.dilate(mask1,kernel, iterations=1)\n",
    "#     mask1 = cv2.blur(mask1)\n",
    "    \n",
    "    plt.figure(figsize=(16,8))\n",
    "    plt.subplot(1,2,1)\n",
    "    plt.imshow(img)\n",
    "    plt.subplot(1,2,2)\n",
    "    plt.imshow(mask2)\n",
    "    plt.show()"
   ]
  },
  {
   "cell_type": "code",
   "execution_count": 11,
   "metadata": {
    "scrolled": false
   },
   "outputs": [],
   "source": [
    "for i in range(25):\n",
    "    n = np.random.randint(14792)\n",
    "    try:\n",
    "        check_mask(n)\n",
    "    except:\n",
    "        continue"
   ]
  },
  {
   "cell_type": "code",
   "execution_count": null,
   "metadata": {},
   "outputs": [],
   "source": []
  }
 ],
 "metadata": {
  "kernelspec": {
   "display_name": "Python 3",
   "language": "python",
   "name": "python3"
  },
  "language_info": {
   "codemirror_mode": {
    "name": "ipython",
    "version": 3
   },
   "file_extension": ".py",
   "mimetype": "text/x-python",
   "name": "python",
   "nbconvert_exporter": "python",
   "pygments_lexer": "ipython3",
   "version": "3.6.8"
  },
  "toc": {
   "base_numbering": 1,
   "nav_menu": {},
   "number_sections": true,
   "sideBar": true,
   "skip_h1_title": false,
   "title_cell": "Table of Contents",
   "title_sidebar": "Contents",
   "toc_cell": false,
   "toc_position": {},
   "toc_section_display": true,
   "toc_window_display": false
  },
  "varInspector": {
   "cols": {
    "lenName": 16,
    "lenType": 16,
    "lenVar": 40
   },
   "kernels_config": {
    "python": {
     "delete_cmd_postfix": "",
     "delete_cmd_prefix": "del ",
     "library": "var_list.py",
     "varRefreshCmd": "print(var_dic_list())"
    },
    "r": {
     "delete_cmd_postfix": ") ",
     "delete_cmd_prefix": "rm(",
     "library": "var_list.r",
     "varRefreshCmd": "cat(var_dic_list()) "
    }
   },
   "types_to_exclude": [
    "module",
    "function",
    "builtin_function_or_method",
    "instance",
    "_Feature"
   ],
   "window_display": false
  }
 },
 "nbformat": 4,
 "nbformat_minor": 2
}
